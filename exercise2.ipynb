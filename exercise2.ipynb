{
 "cells": [
  {
   "cell_type": "markdown",
   "metadata": {},
   "source": [
    "# Exercise 2: Data Processing and Analysis"
   ]
  },
  {
   "cell_type": "code",
   "execution_count": 45,
   "metadata": {},
   "outputs": [],
   "source": [
    "import pandas as pd \n",
    "import matplotlib.pyplot as plt\n",
    "import seaborn as sns\n",
    "import numpy as np\n",
    "try:\n",
    "    import otter\n",
    "    grader = otter.Notebook()\n",
    "except:\n",
    "    %pip install otter-grader\n",
    "    import otter\n",
    "    grader = otter.Notebook()"
   ]
  },
  {
   "cell_type": "markdown",
   "metadata": {},
   "source": [
    "Today we're working with simulated smartwatch health data. You'll notice when you read in the csv file that we have 7 columns: User ID, Heart Rate (BPM), Blood Oxygen Level (%), Step Count, Sleep Duration (hours), Activity Level, and Stress Level. We're going to go through and \"clean up\" the data so that we can calculate some basic statistics such as mean, median, minimum, and maximum for each variable. Run the cell below to read in the table saving it in the variable `smartwatch`. "
   ]
  },
  {
   "cell_type": "code",
   "execution_count": 46,
   "metadata": {},
   "outputs": [
    {
     "data": {
      "text/html": [
       "<div>\n",
       "<style scoped>\n",
       "    .dataframe tbody tr th:only-of-type {\n",
       "        vertical-align: middle;\n",
       "    }\n",
       "\n",
       "    .dataframe tbody tr th {\n",
       "        vertical-align: top;\n",
       "    }\n",
       "\n",
       "    .dataframe thead th {\n",
       "        text-align: right;\n",
       "    }\n",
       "</style>\n",
       "<table border=\"1\" class=\"dataframe\">\n",
       "  <thead>\n",
       "    <tr style=\"text-align: right;\">\n",
       "      <th></th>\n",
       "      <th>User ID</th>\n",
       "      <th>Heart Rate (BPM)</th>\n",
       "      <th>Blood Oxygen Level (%)</th>\n",
       "      <th>Step Count</th>\n",
       "      <th>Sleep Duration (hours)</th>\n",
       "      <th>Activity Level</th>\n",
       "      <th>Stress Level</th>\n",
       "    </tr>\n",
       "  </thead>\n",
       "  <tbody>\n",
       "    <tr>\n",
       "      <th>0</th>\n",
       "      <td>4174.0</td>\n",
       "      <td>58.939776</td>\n",
       "      <td>98.809650</td>\n",
       "      <td>5450.390578</td>\n",
       "      <td>7.167235622316564</td>\n",
       "      <td>Highly Active</td>\n",
       "      <td>1</td>\n",
       "    </tr>\n",
       "    <tr>\n",
       "      <th>1</th>\n",
       "      <td>NaN</td>\n",
       "      <td>NaN</td>\n",
       "      <td>98.532195</td>\n",
       "      <td>727.601610</td>\n",
       "      <td>6.538239375570314</td>\n",
       "      <td>Highly_Active</td>\n",
       "      <td>5</td>\n",
       "    </tr>\n",
       "    <tr>\n",
       "      <th>2</th>\n",
       "      <td>1860.0</td>\n",
       "      <td>247.803052</td>\n",
       "      <td>97.052954</td>\n",
       "      <td>2826.521994</td>\n",
       "      <td>ERROR</td>\n",
       "      <td>Highly Active</td>\n",
       "      <td>5</td>\n",
       "    </tr>\n",
       "    <tr>\n",
       "      <th>3</th>\n",
       "      <td>2294.0</td>\n",
       "      <td>40.000000</td>\n",
       "      <td>96.894213</td>\n",
       "      <td>13797.338044</td>\n",
       "      <td>7.367789630207228</td>\n",
       "      <td>Actve</td>\n",
       "      <td>3</td>\n",
       "    </tr>\n",
       "    <tr>\n",
       "      <th>4</th>\n",
       "      <td>2130.0</td>\n",
       "      <td>61.950165</td>\n",
       "      <td>98.583797</td>\n",
       "      <td>15679.067648</td>\n",
       "      <td>NaN</td>\n",
       "      <td>Highly_Active</td>\n",
       "      <td>6</td>\n",
       "    </tr>\n",
       "    <tr>\n",
       "      <th>...</th>\n",
       "      <td>...</td>\n",
       "      <td>...</td>\n",
       "      <td>...</td>\n",
       "      <td>...</td>\n",
       "      <td>...</td>\n",
       "      <td>...</td>\n",
       "      <td>...</td>\n",
       "    </tr>\n",
       "    <tr>\n",
       "      <th>9995</th>\n",
       "      <td>1524.0</td>\n",
       "      <td>78.819386</td>\n",
       "      <td>98.931927</td>\n",
       "      <td>2948.491953</td>\n",
       "      <td>7.402748595032027</td>\n",
       "      <td>Active</td>\n",
       "      <td>7</td>\n",
       "    </tr>\n",
       "    <tr>\n",
       "      <th>9996</th>\n",
       "      <td>4879.0</td>\n",
       "      <td>48.632659</td>\n",
       "      <td>95.773035</td>\n",
       "      <td>4725.623070</td>\n",
       "      <td>6.3821659358529015</td>\n",
       "      <td>Sedentary</td>\n",
       "      <td>2</td>\n",
       "    </tr>\n",
       "    <tr>\n",
       "      <th>9997</th>\n",
       "      <td>2624.0</td>\n",
       "      <td>73.834442</td>\n",
       "      <td>97.945874</td>\n",
       "      <td>2571.492060</td>\n",
       "      <td>6.91654920303435</td>\n",
       "      <td>Sedentary</td>\n",
       "      <td>4</td>\n",
       "    </tr>\n",
       "    <tr>\n",
       "      <th>9998</th>\n",
       "      <td>4907.0</td>\n",
       "      <td>NaN</td>\n",
       "      <td>98.401058</td>\n",
       "      <td>3364.788855</td>\n",
       "      <td>5.691233932149209</td>\n",
       "      <td>Active</td>\n",
       "      <td>8</td>\n",
       "    </tr>\n",
       "    <tr>\n",
       "      <th>9999</th>\n",
       "      <td>4113.0</td>\n",
       "      <td>70.063864</td>\n",
       "      <td>98.475606</td>\n",
       "      <td>544.696104</td>\n",
       "      <td>5.691001039740254</td>\n",
       "      <td>Actve</td>\n",
       "      <td>5</td>\n",
       "    </tr>\n",
       "  </tbody>\n",
       "</table>\n",
       "<p>10000 rows × 7 columns</p>\n",
       "</div>"
      ],
      "text/plain": [
       "      User ID  Heart Rate (BPM)  Blood Oxygen Level (%)    Step Count  \\\n",
       "0      4174.0         58.939776               98.809650   5450.390578   \n",
       "1         NaN               NaN               98.532195    727.601610   \n",
       "2      1860.0        247.803052               97.052954   2826.521994   \n",
       "3      2294.0         40.000000               96.894213  13797.338044   \n",
       "4      2130.0         61.950165               98.583797  15679.067648   \n",
       "...       ...               ...                     ...           ...   \n",
       "9995   1524.0         78.819386               98.931927   2948.491953   \n",
       "9996   4879.0         48.632659               95.773035   4725.623070   \n",
       "9997   2624.0         73.834442               97.945874   2571.492060   \n",
       "9998   4907.0               NaN               98.401058   3364.788855   \n",
       "9999   4113.0         70.063864               98.475606    544.696104   \n",
       "\n",
       "     Sleep Duration (hours) Activity Level Stress Level  \n",
       "0         7.167235622316564  Highly Active            1  \n",
       "1         6.538239375570314  Highly_Active            5  \n",
       "2                     ERROR  Highly Active            5  \n",
       "3         7.367789630207228          Actve            3  \n",
       "4                       NaN  Highly_Active            6  \n",
       "...                     ...            ...          ...  \n",
       "9995      7.402748595032027         Active            7  \n",
       "9996     6.3821659358529015      Sedentary            2  \n",
       "9997       6.91654920303435      Sedentary            4  \n",
       "9998      5.691233932149209         Active            8  \n",
       "9999      5.691001039740254          Actve            5  \n",
       "\n",
       "[10000 rows x 7 columns]"
      ]
     },
     "execution_count": 46,
     "metadata": {},
     "output_type": "execute_result"
    }
   ],
   "source": [
    "smartwatch = pd.read_csv(\"unclean_smartwatch_health_data.csv\")\n",
    "smartwatch"
   ]
  },
  {
   "cell_type": "markdown",
   "metadata": {},
   "source": [
    "Let's start together with the Heart Rate column. Just looking at the preview table above we can see two things right away: (1) we have `NaN` values meaning data was not collected for those individuals, and (2) some of the heart rate values are abnormally high i.e. `247.803052`. Let's see what the entire range of values look like. "
   ]
  },
  {
   "cell_type": "code",
   "execution_count": 47,
   "metadata": {},
   "outputs": [
    {
     "name": "stdout",
     "output_type": "stream",
     "text": [
      "40.0 296.5939695131042\n"
     ]
    }
   ],
   "source": [
    "print(smartwatch['Heart Rate (BPM)'].min(), smartwatch['Heart Rate (BPM)'].max())"
   ]
  },
  {
   "cell_type": "markdown",
   "metadata": {},
   "source": [
    "**Question 1**: Set the variables below equal to the minimum heart rate and the maximum heart rate in the dataset. This is just practice for the method of checking answers as you go. Afterwards run the cell below to check your answer. "
   ]
  },
  {
   "cell_type": "code",
   "execution_count": 48,
   "metadata": {},
   "outputs": [
    {
     "data": {
      "text/plain": [
       "(np.float64(40.0), 296.5939695131042, np.float64(40.0))"
      ]
     },
     "execution_count": 48,
     "metadata": {},
     "output_type": "execute_result"
    }
   ],
   "source": [
    "minimumHeartRate = smartwatch['Heart Rate (BPM)'].min()\n",
    "maximumHeartRate = float(smartwatch['Heart Rate (BPM)'].max())\n",
    "\n",
    "minimumHeartRate, maximumHeartRate, np.float64(40)"
   ]
  },
  {
   "cell_type": "code",
   "execution_count": 49,
   "metadata": {},
   "outputs": [
    {
     "data": {
      "text/html": [
       "<p><strong><pre style='display: inline;'>Question 1</pre></strong> passed! 🚀</p>"
      ],
      "text/plain": [
       "Question 1 results: All test cases passed!"
      ]
     },
     "execution_count": 49,
     "metadata": {},
     "output_type": "execute_result"
    }
   ],
   "source": [
    "grader.check('q1')"
   ]
  },
  {
   "cell_type": "markdown",
   "metadata": {},
   "source": [
    "Notice that the maximum value of `296` beats per minimute is WAY above normal range of heart rates. In fact, according to [heart.org](https://www.heart.org/en/healthy-living/fitness/fitness-basics/target-heart-rates) the highest estimated heart rate based on age ranges from 150 to 200 for adults. This will vary between individuals, but this is a good starting point for us to think about outliers in the heart rate values in this dataset. Let's see how many rows have missing data or heart rates above 200. "
   ]
  },
  {
   "cell_type": "code",
   "execution_count": 50,
   "metadata": {},
   "outputs": [
    {
     "name": "stdout",
     "output_type": "stream",
     "text": [
      "450\n"
     ]
    }
   ],
   "source": [
    "## select rows where Heart Rate is NaN or rows where the heart rate is above 200. \n",
    "# Emphasis on the usage of 'or' here, we want rows where either \n",
    "# scenario 1 (NaN) OR scenario 2 (>200) is true. \n",
    "\n",
    "outlierHeartRaterows = smartwatch[smartwatch['Heart Rate (BPM)'] > 200]\n",
    "nullHeartRaterows = smartwatch[smartwatch['Heart Rate (BPM)'].isnull()]\n",
    "\n",
    "print(len(outlierHeartRaterows) + len(nullHeartRaterows))"
   ]
  },
  {
   "cell_type": "code",
   "execution_count": 51,
   "metadata": {},
   "outputs": [
    {
     "name": "stdout",
     "output_type": "stream",
     "text": [
      "      User ID  Heart Rate (BPM)  Blood Oxygen Level (%)    Step Count  \\\n",
      "2      1860.0        247.803052               97.052954   2826.521994   \n",
      "337    2369.0        200.491642               95.441773   2998.761919   \n",
      "393    2443.0        219.199178               95.497181   1227.804688   \n",
      "403    3200.0        232.944907               96.011492   9402.746140   \n",
      "595    2129.0        264.467356               97.161853   2555.402184   \n",
      "649    2008.0        226.256725               98.356789   2739.171166   \n",
      "818    3156.0        265.542910                     NaN   7281.778831   \n",
      "1195   3261.0        207.102188               99.652006   2867.872064   \n",
      "1391   4621.0        207.430243               96.688083  20577.677290   \n",
      "1602   4737.0        215.194681               95.095839  16072.283561   \n",
      "2023      NaN        204.067811               99.032130  17620.765455   \n",
      "2211   2711.0        209.773924               97.852781   1786.998129   \n",
      "2212   4020.0        228.498078               95.280955   3794.430590   \n",
      "2338   1762.0        256.377377               96.026123   9969.240744   \n",
      "2454   4902.0        283.585785               97.092166  11843.255005   \n",
      "3113   1035.0        292.923300               94.120618   5303.010562   \n",
      "3235   4478.0        282.863124               97.295126   2402.047207   \n",
      "3354   4976.0        243.876978               96.703748   4265.937611   \n",
      "3451   2768.0        284.055255               96.761963   4723.116194   \n",
      "3886   3856.0        271.495786               96.440489    841.196042   \n",
      "3983   1597.0        231.255442               99.396872  23860.187292   \n",
      "4146   1574.0        276.123983               98.386439   4255.759517   \n",
      "4185   4643.0        296.593970               95.415588  54698.646371   \n",
      "4254   3563.0        204.057610               95.768379   5871.602913   \n",
      "4275   1844.0        249.617291               97.847790   1855.481139   \n",
      "4366   2655.0        269.145975              100.000000  11331.922879   \n",
      "4509   4642.0        250.620679               97.983060   8526.218347   \n",
      "4521   4629.0        246.094144              100.000000   5614.112857   \n",
      "4780   2003.0        264.642812               98.242375   5299.159731   \n",
      "4792   3530.0        231.036287               99.960103   5396.348537   \n",
      "4833   4829.0        234.840936               97.920202  17207.114700   \n",
      "5090   4797.0        274.296904               98.647925   2604.794451   \n",
      "5170   2023.0        257.829686               94.316370    789.259057   \n",
      "5265   3277.0        263.375790              100.000000  10180.369091   \n",
      "5870   1499.0        283.483143               96.833301           NaN   \n",
      "6135   1389.0        250.848825               96.558205   2240.873043   \n",
      "6376   3218.0        256.006945               98.446205   8287.695252   \n",
      "6726   2338.0        202.412967               95.948327   3935.287388   \n",
      "6974   1935.0        252.998052               94.263021  25043.512031   \n",
      "7897   3488.0        219.280892               93.422300   1167.050964   \n",
      "8369   2283.0        288.257761                     NaN  21495.639335   \n",
      "8471   2706.0        291.403077               96.239663  19209.243829   \n",
      "8692   1698.0        214.349009               96.382266   3225.230149   \n",
      "8895   3294.0        231.696779              100.000000  18039.603487   \n",
      "8997      NaN        223.347514               96.643436   4226.877196   \n",
      "9164   3381.0        265.029967               98.982453   5247.004522   \n",
      "9438   4411.0        293.221756               99.524016  11209.020829   \n",
      "9654   2898.0        232.128828               96.082553     45.956119   \n",
      "9665   2069.0        273.862348               96.509094   5002.019249   \n",
      "9752   4683.0        251.490529               97.371766   5759.938203   \n",
      "\n",
      "     Sleep Duration (hours) Activity Level Stress Level  \n",
      "2                     ERROR  Highly Active            5  \n",
      "337       6.670622263019579  Highly Active            9  \n",
      "393       5.185244686595328  Highly_Active            9  \n",
      "403       7.190062873693008  Highly_Active            9  \n",
      "595       5.928628388578222  Highly Active            7  \n",
      "649       7.272009723254014  Highly_Active          NaN  \n",
      "818       4.300171191258864      Sedentary            3  \n",
      "1195      7.218530947169898         Active            7  \n",
      "1391      8.049854248644627         Active            3  \n",
      "1602       6.98847026102848          Actve            6  \n",
      "2023      7.641814526532746      Sedentary          NaN  \n",
      "2211      9.403363125752087         Active            5  \n",
      "2212      9.471210427832666     Seddentary            2  \n",
      "2338      7.434143975499938      Sedentary            4  \n",
      "2454     4.8230739165423175      Sedentary            5  \n",
      "3113      5.216491298730846         Active            4  \n",
      "3235       8.40664811517765     Seddentary            3  \n",
      "3354      6.272040953618372     Seddentary            4  \n",
      "3451      7.656776835132766  Highly Active            3  \n",
      "3886        8.5141016110168     Seddentary            7  \n",
      "3983       9.72770039263133  Highly Active           10  \n",
      "4146      9.950312577595927      Sedentary            1  \n",
      "4185        8.4611474189254            NaN           10  \n",
      "4254      6.169674782300074          Actve            3  \n",
      "4275      7.103458436811003      Sedentary            5  \n",
      "4366      6.252116628792069          Actve            8  \n",
      "4509      7.157804627096766  Highly Active            1  \n",
      "4521      6.304731924019175         Active            2  \n",
      "4780      8.471284845728434         Active            1  \n",
      "4792       5.03699852197675          Actve            4  \n",
      "4833       5.93139606422032  Highly_Active            3  \n",
      "5090      4.604169369845159  Highly Active            1  \n",
      "5170      4.456316515329178            NaN            6  \n",
      "5265      5.234907365011507      Sedentary            1  \n",
      "5870      7.221605491090915      Sedentary            9  \n",
      "6135      6.249638938845372  Highly_Active            7  \n",
      "6376      4.174557486059257  Highly Active           10  \n",
      "6726      9.145513040749627      Sedentary            1  \n",
      "6974      5.452934114413052  Highly_Active            6  \n",
      "7897     6.3843230507913775          Actve            7  \n",
      "8369      5.291653956497481  Highly_Active            2  \n",
      "8471       7.26153538491556          Actve            9  \n",
      "8692      6.801618776704774     Seddentary            6  \n",
      "8895      7.064974772457126         Active            9  \n",
      "8997     5.2023674086270795  Highly_Active            3  \n",
      "9164      9.026252817225515  Highly Active            6  \n",
      "9438                  ERROR  Highly Active            3  \n",
      "9654       5.63988977577483         Active            3  \n",
      "9665       7.82197109767565     Seddentary            2  \n",
      "9752      5.496136294267198      Sedentary            9  \n",
      "      User ID  Heart Rate (BPM)  Blood Oxygen Level (%)    Step Count  \\\n",
      "1         NaN               NaN               98.532195    727.601610   \n",
      "17     3919.0               NaN               96.052853   3488.919508   \n",
      "75     3945.0               NaN              100.000000   3124.118038   \n",
      "105    2981.0               NaN               98.276558   3039.112276   \n",
      "158    4099.0               NaN               99.478461  11559.663606   \n",
      "...       ...               ...                     ...           ...   \n",
      "9875      NaN               NaN               99.842527   4454.770218   \n",
      "9956   1476.0               NaN              100.000000   3584.236177   \n",
      "9971   1434.0               NaN               99.319841     26.215769   \n",
      "9990      NaN               NaN              100.000000   3817.269018   \n",
      "9998   4907.0               NaN               98.401058   3364.788855   \n",
      "\n",
      "     Sleep Duration (hours) Activity Level Stress Level  \n",
      "1         6.538239375570314  Highly_Active            5  \n",
      "17        6.718661172525927     Seddentary            4  \n",
      "75        4.229887888280923          Actve            1  \n",
      "105       5.209658021888749            NaN            6  \n",
      "158       6.470651489160172  Highly_Active            7  \n",
      "...                     ...            ...          ...  \n",
      "9875      5.520745925308887      Sedentary            3  \n",
      "9956      6.659533807452561  Highly_Active            5  \n",
      "9971      6.367659085134144         Active           10  \n",
      "9990      8.595259517189332     Seddentary            2  \n",
      "9998      5.691233932149209         Active            8  \n",
      "\n",
      "[400 rows x 7 columns]\n"
     ]
    }
   ],
   "source": [
    "print(outlierHeartRaterows)\n",
    "print(nullHeartRaterows)"
   ]
  },
  {
   "cell_type": "code",
   "execution_count": 52,
   "metadata": {},
   "outputs": [
    {
     "name": "stdout",
     "output_type": "stream",
     "text": [
      "      User ID  Heart Rate (BPM)  Blood Oxygen Level (%)    Step Count  \\\n",
      "0      4174.0         58.939776               98.809650   5450.390578   \n",
      "3      2294.0         40.000000               96.894213  13797.338044   \n",
      "4      2130.0         61.950165               98.583797  15679.067648   \n",
      "5      2095.0         96.285938               94.202910  10205.992256   \n",
      "6      4772.0         47.272257               95.389760   3208.781177   \n",
      "...       ...               ...                     ...           ...   \n",
      "9994   1942.0         77.912299               98.640583  10061.145291   \n",
      "9995   1524.0         78.819386               98.931927   2948.491953   \n",
      "9996   4879.0         48.632659               95.773035   4725.623070   \n",
      "9997   2624.0         73.834442               97.945874   2571.492060   \n",
      "9999   4113.0         70.063864               98.475606    544.696104   \n",
      "\n",
      "     Sleep Duration (hours) Activity Level Stress Level  \n",
      "0         7.167235622316564  Highly Active            1  \n",
      "3         7.367789630207228          Actve            3  \n",
      "4                       NaN  Highly_Active            6  \n",
      "5         8.378342673824589  Highly_Active           10  \n",
      "6         7.871146008904113     Seddentary            2  \n",
      "...                     ...            ...          ...  \n",
      "9994      5.428634630125767     Seddentary           10  \n",
      "9995      7.402748595032027         Active            7  \n",
      "9996     6.3821659358529015      Sedentary            2  \n",
      "9997       6.91654920303435      Sedentary            4  \n",
      "9999      5.691001039740254          Actve            5  \n",
      "\n",
      "[9550 rows x 7 columns]\n"
     ]
    }
   ],
   "source": [
    "## Now let's get a table of all the other rows. \n",
    "heartrateRows = smartwatch[(~smartwatch['Heart Rate (BPM)'].isnull()) & (smartwatch['Heart Rate (BPM)'] <= 200)]\n",
    "\n",
    "print(heartrateRows)"
   ]
  },
  {
   "cell_type": "markdown",
   "metadata": {},
   "source": [
    "**Question 2:** \n",
    "\n",
    "Notice here that the length of the two tables (`450` and `9550`) add up to the total number rows (`n=10000`). This is a good sanity check as we manipulate the table. Now we have to decide how we deal with these missing values and outliers. One method to do this would be remove all the rows with null values or outlier values. Another method is use imputation - this can be done in several ways but below we're going to substitute the average heart rate for the missing and mismeasured values. Do we think this will change the mean?"
   ]
  },
  {
   "cell_type": "code",
   "execution_count": 53,
   "metadata": {},
   "outputs": [
    {
     "name": "stdout",
     "output_type": "stream",
     "text": [
      "75.13268404820141\n"
     ]
    }
   ],
   "source": [
    "HeartRateMean = float(heartrateRows['Heart Rate (BPM)'].mean())\n",
    "print(HeartRateMean)\n"
   ]
  },
  {
   "cell_type": "code",
   "execution_count": 54,
   "metadata": {},
   "outputs": [
    {
     "name": "stdout",
     "output_type": "stream",
     "text": [
      "      User ID  Heart Rate (BPM)  Blood Oxygen Level (%)    Step Count  \\\n",
      "2      1860.0         75.132684               97.052954   2826.521994   \n",
      "337    2369.0         75.132684               95.441773   2998.761919   \n",
      "393    2443.0         75.132684               95.497181   1227.804688   \n",
      "403    3200.0         75.132684               96.011492   9402.746140   \n",
      "595    2129.0         75.132684               97.161853   2555.402184   \n",
      "649    2008.0         75.132684               98.356789   2739.171166   \n",
      "818    3156.0         75.132684                     NaN   7281.778831   \n",
      "1195   3261.0         75.132684               99.652006   2867.872064   \n",
      "1391   4621.0         75.132684               96.688083  20577.677290   \n",
      "1602   4737.0         75.132684               95.095839  16072.283561   \n",
      "2023      NaN         75.132684               99.032130  17620.765455   \n",
      "2211   2711.0         75.132684               97.852781   1786.998129   \n",
      "2212   4020.0         75.132684               95.280955   3794.430590   \n",
      "2338   1762.0         75.132684               96.026123   9969.240744   \n",
      "2454   4902.0         75.132684               97.092166  11843.255005   \n",
      "3113   1035.0         75.132684               94.120618   5303.010562   \n",
      "3235   4478.0         75.132684               97.295126   2402.047207   \n",
      "3354   4976.0         75.132684               96.703748   4265.937611   \n",
      "3451   2768.0         75.132684               96.761963   4723.116194   \n",
      "3886   3856.0         75.132684               96.440489    841.196042   \n",
      "3983   1597.0         75.132684               99.396872  23860.187292   \n",
      "4146   1574.0         75.132684               98.386439   4255.759517   \n",
      "4185   4643.0         75.132684               95.415588  54698.646371   \n",
      "4254   3563.0         75.132684               95.768379   5871.602913   \n",
      "4275   1844.0         75.132684               97.847790   1855.481139   \n",
      "4366   2655.0         75.132684              100.000000  11331.922879   \n",
      "4509   4642.0         75.132684               97.983060   8526.218347   \n",
      "4521   4629.0         75.132684              100.000000   5614.112857   \n",
      "4780   2003.0         75.132684               98.242375   5299.159731   \n",
      "4792   3530.0         75.132684               99.960103   5396.348537   \n",
      "4833   4829.0         75.132684               97.920202  17207.114700   \n",
      "5090   4797.0         75.132684               98.647925   2604.794451   \n",
      "5170   2023.0         75.132684               94.316370    789.259057   \n",
      "5265   3277.0         75.132684              100.000000  10180.369091   \n",
      "5870   1499.0         75.132684               96.833301           NaN   \n",
      "6135   1389.0         75.132684               96.558205   2240.873043   \n",
      "6376   3218.0         75.132684               98.446205   8287.695252   \n",
      "6726   2338.0         75.132684               95.948327   3935.287388   \n",
      "6974   1935.0         75.132684               94.263021  25043.512031   \n",
      "7897   3488.0         75.132684               93.422300   1167.050964   \n",
      "8369   2283.0         75.132684                     NaN  21495.639335   \n",
      "8471   2706.0         75.132684               96.239663  19209.243829   \n",
      "8692   1698.0         75.132684               96.382266   3225.230149   \n",
      "8895   3294.0         75.132684              100.000000  18039.603487   \n",
      "8997      NaN         75.132684               96.643436   4226.877196   \n",
      "9164   3381.0         75.132684               98.982453   5247.004522   \n",
      "9438   4411.0         75.132684               99.524016  11209.020829   \n",
      "9654   2898.0         75.132684               96.082553     45.956119   \n",
      "9665   2069.0         75.132684               96.509094   5002.019249   \n",
      "9752   4683.0         75.132684               97.371766   5759.938203   \n",
      "\n",
      "     Sleep Duration (hours) Activity Level Stress Level  \n",
      "2                     ERROR  Highly Active            5  \n",
      "337       6.670622263019579  Highly Active            9  \n",
      "393       5.185244686595328  Highly_Active            9  \n",
      "403       7.190062873693008  Highly_Active            9  \n",
      "595       5.928628388578222  Highly Active            7  \n",
      "649       7.272009723254014  Highly_Active          NaN  \n",
      "818       4.300171191258864      Sedentary            3  \n",
      "1195      7.218530947169898         Active            7  \n",
      "1391      8.049854248644627         Active            3  \n",
      "1602       6.98847026102848          Actve            6  \n",
      "2023      7.641814526532746      Sedentary          NaN  \n",
      "2211      9.403363125752087         Active            5  \n",
      "2212      9.471210427832666     Seddentary            2  \n",
      "2338      7.434143975499938      Sedentary            4  \n",
      "2454     4.8230739165423175      Sedentary            5  \n",
      "3113      5.216491298730846         Active            4  \n",
      "3235       8.40664811517765     Seddentary            3  \n",
      "3354      6.272040953618372     Seddentary            4  \n",
      "3451      7.656776835132766  Highly Active            3  \n",
      "3886        8.5141016110168     Seddentary            7  \n",
      "3983       9.72770039263133  Highly Active           10  \n",
      "4146      9.950312577595927      Sedentary            1  \n",
      "4185        8.4611474189254            NaN           10  \n",
      "4254      6.169674782300074          Actve            3  \n",
      "4275      7.103458436811003      Sedentary            5  \n",
      "4366      6.252116628792069          Actve            8  \n",
      "4509      7.157804627096766  Highly Active            1  \n",
      "4521      6.304731924019175         Active            2  \n",
      "4780      8.471284845728434         Active            1  \n",
      "4792       5.03699852197675          Actve            4  \n",
      "4833       5.93139606422032  Highly_Active            3  \n",
      "5090      4.604169369845159  Highly Active            1  \n",
      "5170      4.456316515329178            NaN            6  \n",
      "5265      5.234907365011507      Sedentary            1  \n",
      "5870      7.221605491090915      Sedentary            9  \n",
      "6135      6.249638938845372  Highly_Active            7  \n",
      "6376      4.174557486059257  Highly Active           10  \n",
      "6726      9.145513040749627      Sedentary            1  \n",
      "6974      5.452934114413052  Highly_Active            6  \n",
      "7897     6.3843230507913775          Actve            7  \n",
      "8369      5.291653956497481  Highly_Active            2  \n",
      "8471       7.26153538491556          Actve            9  \n",
      "8692      6.801618776704774     Seddentary            6  \n",
      "8895      7.064974772457126         Active            9  \n",
      "8997     5.2023674086270795  Highly_Active            3  \n",
      "9164      9.026252817225515  Highly Active            6  \n",
      "9438                  ERROR  Highly Active            3  \n",
      "9654       5.63988977577483         Active            3  \n",
      "9665       7.82197109767565     Seddentary            2  \n",
      "9752      5.496136294267198      Sedentary            9  \n"
     ]
    },
    {
     "name": "stderr",
     "output_type": "stream",
     "text": [
      "/tmp/ipykernel_2347/936369900.py:1: SettingWithCopyWarning: \n",
      "A value is trying to be set on a copy of a slice from a DataFrame.\n",
      "Try using .loc[row_indexer,col_indexer] = value instead\n",
      "\n",
      "See the caveats in the documentation: https://pandas.pydata.org/pandas-docs/stable/user_guide/indexing.html#returning-a-view-versus-a-copy\n",
      "  outlierHeartRaterows['Heart Rate (BPM)'] = HeartRateMean\n",
      "/tmp/ipykernel_2347/936369900.py:2: SettingWithCopyWarning: \n",
      "A value is trying to be set on a copy of a slice from a DataFrame.\n",
      "Try using .loc[row_indexer,col_indexer] = value instead\n",
      "\n",
      "See the caveats in the documentation: https://pandas.pydata.org/pandas-docs/stable/user_guide/indexing.html#returning-a-view-versus-a-copy\n",
      "  nullHeartRaterows['Heart Rate (BPM)'] = HeartRateMean\n"
     ]
    }
   ],
   "source": [
    "outlierHeartRaterows['Heart Rate (BPM)'] = HeartRateMean\n",
    "nullHeartRaterows['Heart Rate (BPM)'] = HeartRateMean\n",
    "\n",
    "\n",
    "print(outlierHeartRaterows)"
   ]
  },
  {
   "cell_type": "code",
   "execution_count": 55,
   "metadata": {},
   "outputs": [
    {
     "name": "stdout",
     "output_type": "stream",
     "text": [
      "75.13268404820141\n",
      "      User ID  Heart Rate (BPM)  Blood Oxygen Level (%)    Step Count  \\\n",
      "2      1860.0         75.132684               97.052954   2826.521994   \n",
      "337    2369.0         75.132684               95.441773   2998.761919   \n",
      "393    2443.0         75.132684               95.497181   1227.804688   \n",
      "403    3200.0         75.132684               96.011492   9402.746140   \n",
      "595    2129.0         75.132684               97.161853   2555.402184   \n",
      "...       ...               ...                     ...           ...   \n",
      "9994   1942.0         77.912299               98.640583  10061.145291   \n",
      "9995   1524.0         78.819386               98.931927   2948.491953   \n",
      "9996   4879.0         48.632659               95.773035   4725.623070   \n",
      "9997   2624.0         73.834442               97.945874   2571.492060   \n",
      "9999   4113.0         70.063864               98.475606    544.696104   \n",
      "\n",
      "     Sleep Duration (hours) Activity Level Stress Level  \n",
      "2                     ERROR  Highly Active            5  \n",
      "337       6.670622263019579  Highly Active            9  \n",
      "393       5.185244686595328  Highly_Active            9  \n",
      "403       7.190062873693008  Highly_Active            9  \n",
      "595       5.928628388578222  Highly Active            7  \n",
      "...                     ...            ...          ...  \n",
      "9994      5.428634630125767     Seddentary           10  \n",
      "9995      7.402748595032027         Active            7  \n",
      "9996     6.3821659358529015      Sedentary            2  \n",
      "9997       6.91654920303435      Sedentary            4  \n",
      "9999      5.691001039740254          Actve            5  \n",
      "\n",
      "[10000 rows x 7 columns]\n"
     ]
    }
   ],
   "source": [
    "smartwatch_hr = pd.concat([outlierHeartRaterows, nullHeartRaterows, heartrateRows])\n",
    "\n",
    "fullTableHRMean = float(smartwatch_hr['Heart Rate (BPM)'].mean())\n",
    "print(fullTableHRMean)\n",
    "\n",
    "print(smartwatch_hr)"
   ]
  },
  {
   "cell_type": "code",
   "execution_count": 56,
   "metadata": {},
   "outputs": [
    {
     "data": {
      "text/html": [
       "<p><strong><pre style='display: inline;'>Question 2</pre></strong> passed! 💯</p>"
      ],
      "text/plain": [
       "Question 2 results: All test cases passed!"
      ]
     },
     "execution_count": 56,
     "metadata": {},
     "output_type": "execute_result"
    }
   ],
   "source": [
    "grader.check('q2')"
   ]
  },
  {
   "cell_type": "markdown",
   "metadata": {},
   "source": [
    "Notice how the mean doesn't change when you use the imputed mean as the substituted values. However, as a note this will change the distribution of values and has the potential to obscure the causes of missing values or outliers. "
   ]
  },
  {
   "cell_type": "code",
   "execution_count": 57,
   "metadata": {},
   "outputs": [
    {
     "data": {
      "text/plain": [
       "<matplotlib.legend.Legend at 0x7f57ad76bdd0>"
      ]
     },
     "execution_count": 57,
     "metadata": {},
     "output_type": "execute_result"
    },
    {
     "data": {
      "image/png": "[encoded data removed]",
      "text/plain": [
       "<Figure size 640x480 with 1 Axes>"
      ]
     },
     "metadata": {},
     "output_type": "display_data"
    }
   ],
   "source": [
    "sns.histplot(smartwatch['Heart Rate (BPM)'], label ='With Missing Values and Outliers')\n",
    "sns.histplot(smartwatch_hr['Heart Rate (BPM)'], label = 'With Mean as Imputed Value')\n",
    "plt.legend()"
   ]
  },
  {
   "cell_type": "markdown",
   "metadata": {},
   "source": [
    "**Question 3**: How does the imputation method affect the median values?  Remember the table `smartwatch` remains unchanged and can be used to find the original median value. \n",
    "\n",
    "ANSWER: Mean imputation changes the distribution of the values, and therefore impacts the median, but not the mean. Since mean values were imputed for the impossibly high heart rate values in the dataset, the median of the data has decreased. This can be seen, as the median value for the original data was 75.22, and for the mean imputed data 75.13.\n",
    "\n",
    "..."
   ]
  },
  {
   "cell_type": "code",
   "execution_count": 58,
   "metadata": {},
   "outputs": [
    {
     "name": "stdout",
     "output_type": "stream",
     "text": [
      "75.22060125775644\n",
      "75.13268404820141\n"
     ]
    }
   ],
   "source": [
    "## coding cell to check the difference in median values \n",
    "\n",
    "print(smartwatch['Heart Rate (BPM)'].median())\n",
    "print(smartwatch_hr['Heart Rate (BPM)'].median())\n"
   ]
  },
  {
   "cell_type": "markdown",
   "metadata": {},
   "source": [
    "Now let's repeat this process for the other columns as well. \n",
    "\n",
    "**Question 4**: Find the minimum, maximum, and mean Blood Oxygen Level. "
   ]
  },
  {
   "cell_type": "code",
   "execution_count": 59,
   "metadata": {},
   "outputs": [
    {
     "name": "stdout",
     "output_type": "stream",
     "text": [
      "90.79120814564097 100.0 97.84158102099076\n"
     ]
    }
   ],
   "source": [
    "minBloodO2 = smartwatch['Blood Oxygen Level (%)'].min()\n",
    "\n",
    "maxBloodO2 = smartwatch['Blood Oxygen Level (%)'].max()\n",
    "\n",
    "meanBloodO2 = smartwatch['Blood Oxygen Level (%)'].mean()\n",
    "\n",
    "\n",
    "print(minBloodO2, maxBloodO2, meanBloodO2)"
   ]
  },
  {
   "cell_type": "code",
   "execution_count": 60,
   "metadata": {},
   "outputs": [
    {
     "data": {
      "text/html": [
       "<p><strong><pre style='display: inline;'>Question 4</pre></strong> passed! 🎉</p>"
      ],
      "text/plain": [
       "Question 4 results: All test cases passed!"
      ]
     },
     "execution_count": 60,
     "metadata": {},
     "output_type": "execute_result"
    }
   ],
   "source": [
    "grader.check('q4')"
   ]
  },
  {
   "cell_type": "markdown",
   "metadata": {},
   "source": [
    "We can do some visualizations using a box plot to better decide if there's any outliers we'd like to remove. Maybe you decide that everything below 92.5 is an outlier should be removed or maybe you decide to keep all of the values or maybe you decide to remove all values under 94% since that falls outside of a normal, healthy range according to doctors (I would not suggest this last one as it would obscure quite a bit of data! But some analysts might consider it!). In question 5, you can make that decision and justify your answer. "
   ]
  },
  {
   "cell_type": "code",
   "execution_count": 61,
   "metadata": {},
   "outputs": [
    {
     "data": {
      "text/plain": [
       "<Axes: ylabel='Blood Oxygen Level (%)'>"
      ]
     },
     "execution_count": 61,
     "metadata": {},
     "output_type": "execute_result"
    },
    {
     "data": {
      "image/png": "[encoded data removed]",
      "text/plain": [
       "<Figure size 640x480 with 1 Axes>"
      ]
     },
     "metadata": {},
     "output_type": "display_data"
    }
   ],
   "source": [
    "sns.boxplot(smartwatch['Blood Oxygen Level (%)'])"
   ]
  },
  {
   "cell_type": "markdown",
   "metadata": {},
   "source": [
    "**Question 5**: Decide how you want to deal with missing and outlier values in the Blood Oxygen Level column. Set your final table equal to the variable `smartwatch_o2`. Use the space below to explain your decisions. \n",
    "\n",
    "Notes: Refer to [this article](https://pmc.ncbi.nlm.nih.gov/articles/PMC5548942/) on methods of handling these type of instances in data. Keep in mind, you might find that either there are no missing values or no outliers. That's okay, just indicate that in the written space below and update the table i.e. `smartwatch_o2 = smartwatch_hr`\n",
    "\n",
    "ANSWER: For the Blood Oxygen Level column, I decided not to remove outlier values, and to perform mean imputation on missing values. There are 27 values in the Blood Oxygen Column which fall below 92.5. These values all range from 90.8 to 92.5. While these values are low, and not healthy, they are possible. These values may be reflective of mis-readings of the smartwatch, but it is also possible that they are accurate readings of very low levels. Therefore, these values have been kept. Missing values (300) have been mean imputed in order to avoid deletion of the rows, and to maintain the same mean.\n",
    "\n"
   ]
  },
  {
   "cell_type": "code",
   "execution_count": 62,
   "metadata": {},
   "outputs": [
    {
     "name": "stdout",
     "output_type": "stream",
     "text": [
      "300 9700 27\n"
     ]
    }
   ],
   "source": [
    "smartwatch_o2 = smartwatch_hr\n",
    "\n",
    "outlierBlood = smartwatch_o2[smartwatch_o2['Blood Oxygen Level (%)'] < 92.5 ]\n",
    "\n",
    "nullBloodo2Rows = smartwatch_o2[smartwatch_o2['Blood Oxygen Level (%)'].isnull()]\n",
    "\n",
    "Bloodo2Rows = smartwatch_o2[(~smartwatch_o2['Blood Oxygen Level (%)'].isnull())]\n",
    "\n",
    "print(len(nullBloodo2Rows),len(Bloodo2Rows), len(outlierBlood))\n",
    "      "
   ]
  },
  {
   "cell_type": "code",
   "execution_count": 63,
   "metadata": {},
   "outputs": [
    {
     "name": "stdout",
     "output_type": "stream",
     "text": [
      "97.84158102099076\n",
      "      User ID  Heart Rate (BPM)  Blood Oxygen Level (%)    Step Count  \\\n",
      "818    3156.0         75.132684               97.841581   7281.778831   \n",
      "8369   2283.0         75.132684               97.841581  21495.639335   \n",
      "1615   1417.0         75.132684               97.841581   1585.892722   \n",
      "1712   4079.0         75.132684               97.841581  19003.921284   \n",
      "4690   2829.0         75.132684               97.841581   6610.794796   \n",
      "...       ...               ...                     ...           ...   \n",
      "9994   1942.0         77.912299               98.640583  10061.145291   \n",
      "9995   1524.0         78.819386               98.931927   2948.491953   \n",
      "9996   4879.0         48.632659               95.773035   4725.623070   \n",
      "9997   2624.0         73.834442               97.945874   2571.492060   \n",
      "9999   4113.0         70.063864               98.475606    544.696104   \n",
      "\n",
      "     Sleep Duration (hours) Activity Level Stress Level  \n",
      "818       4.300171191258864      Sedentary            3  \n",
      "8369      5.291653956497481  Highly_Active            2  \n",
      "1615      5.850088362685106     Seddentary            9  \n",
      "1712      5.612504092265231         Active            2  \n",
      "4690      7.770459211576647            NaN            9  \n",
      "...                     ...            ...          ...  \n",
      "9994      5.428634630125767     Seddentary           10  \n",
      "9995      7.402748595032027         Active            7  \n",
      "9996     6.3821659358529015      Sedentary            2  \n",
      "9997       6.91654920303435      Sedentary            4  \n",
      "9999      5.691001039740254          Actve            5  \n",
      "\n",
      "[10000 rows x 7 columns]\n"
     ]
    },
    {
     "name": "stderr",
     "output_type": "stream",
     "text": [
      "/tmp/ipykernel_2347/3516845451.py:3: SettingWithCopyWarning: \n",
      "A value is trying to be set on a copy of a slice from a DataFrame.\n",
      "Try using .loc[row_indexer,col_indexer] = value instead\n",
      "\n",
      "See the caveats in the documentation: https://pandas.pydata.org/pandas-docs/stable/user_guide/indexing.html#returning-a-view-versus-a-copy\n",
      "  nullBloodo2Rows['Blood Oxygen Level (%)'] = meanBloodO2\n"
     ]
    }
   ],
   "source": [
    "## use this space or additional cells to deal with the missing/outlier values. \n",
    "\n",
    "nullBloodo2Rows['Blood Oxygen Level (%)'] = meanBloodO2\n",
    "\n",
    "Bloodo2Rows = smartwatch_o2[(~smartwatch_o2['Blood Oxygen Level (%)'].isnull())]\n",
    "\n",
    "smartwatch_o2 = pd.concat([nullBloodo2Rows, Bloodo2Rows])\n",
    "\n",
    "fullTableHo2Mean = (smartwatch_o2['Blood Oxygen Level (%)'].mean())\n",
    "print(fullTableHo2Mean)\n",
    "\n",
    "print (smartwatch_o2)\n"
   ]
  },
  {
   "cell_type": "markdown",
   "metadata": {},
   "source": [
    "Moving onto the Step Count column. \n",
    "\n",
    "**Question 6**: Find the minimum, maximum, and mean step counts. "
   ]
  },
  {
   "cell_type": "code",
   "execution_count": 64,
   "metadata": {},
   "outputs": [
    {
     "name": "stdout",
     "output_type": "stream",
     "text": [
      "0.9101380609604088 62486.690753464914 6985.685884992229\n"
     ]
    }
   ],
   "source": [
    "minSteps = smartwatch['Step Count'].min()\n",
    "\n",
    "maxSteps = smartwatch['Step Count'].max()\n",
    "\n",
    "meanSteps = smartwatch['Step Count'].mean()\n",
    "\n",
    "print(minSteps, maxSteps, meanSteps)"
   ]
  },
  {
   "cell_type": "code",
   "execution_count": 65,
   "metadata": {},
   "outputs": [
    {
     "data": {
      "text/html": [
       "<p><strong><pre style='display: inline;'>Question 6</pre></strong> passed! 🙌</p>"
      ],
      "text/plain": [
       "Question 6 results: All test cases passed!"
      ]
     },
     "execution_count": 65,
     "metadata": {},
     "output_type": "execute_result"
    }
   ],
   "source": [
    "grader.check('q6')"
   ]
  },
  {
   "cell_type": "markdown",
   "metadata": {},
   "source": [
    "**Question 7**: Decide how you want to deal with missing and outlier values in the Steps column. Set your final table equal to the variable `smartwatch_steps`. Use the space below to explain your decisions. \n",
    "\n",
    "Notes: Refer to [this article](https://pmc.ncbi.nlm.nih.gov/articles/PMC5548942/) on methods of handling these type of instances in data. Keep in mind, you might find that either there are no missing values or no outliers. That's okay, just indicate that in the written space below and update the table i.e. `smartwatch_steps = smartwatch_o2`\n",
    "\n",
    "ANSWER: I have chosen to mean impute for null values (100) in the step count column. This deals with missing data without deleting other information in the rows. No outliers have been altered, as while the minimum (0.9 steps) and the maximum (62,486 steps) are extremes, they could be reflective of individuals who are perhaps confined to a bed, or perhaps training for very long distance activity. \n",
    "\n",
    "...."
   ]
  },
  {
   "cell_type": "code",
   "execution_count": 66,
   "metadata": {},
   "outputs": [
    {
     "name": "stdout",
     "output_type": "stream",
     "text": [
      "100 9900\n",
      "6985.685884992228\n",
      "      User ID  Heart Rate (BPM)  Blood Oxygen Level (%)    Step Count  \\\n",
      "1509   4719.0        107.126196               97.841581   6985.685885   \n",
      "5870   1499.0         75.132684               96.833301   6985.685885   \n",
      "204    2923.0         75.132684               98.710637   6985.685885   \n",
      "841    4301.0         75.132684               98.267833   6985.685885   \n",
      "2798   4923.0         75.132684              100.000000   6985.685885   \n",
      "...       ...               ...                     ...           ...   \n",
      "9994   1942.0         77.912299               98.640583  10061.145291   \n",
      "9995   1524.0         78.819386               98.931927   2948.491953   \n",
      "9996   4879.0         48.632659               95.773035   4725.623070   \n",
      "9997   2624.0         73.834442               97.945874   2571.492060   \n",
      "9999   4113.0         70.063864               98.475606    544.696104   \n",
      "\n",
      "     Sleep Duration (hours) Activity Level Stress Level  \n",
      "1509       7.21392401415147      Sedentary            2  \n",
      "5870      7.221605491090915      Sedentary            9  \n",
      "204       5.756958709255954  Highly_Active            8  \n",
      "841      3.1137381459079805  Highly_Active            1  \n",
      "2798     5.8805954880645395      Sedentary            2  \n",
      "...                     ...            ...          ...  \n",
      "9994      5.428634630125767     Seddentary           10  \n",
      "9995      7.402748595032027         Active            7  \n",
      "9996     6.3821659358529015      Sedentary            2  \n",
      "9997       6.91654920303435      Sedentary            4  \n",
      "9999      5.691001039740254          Actve            5  \n",
      "\n",
      "[10000 rows x 7 columns]\n"
     ]
    },
    {
     "name": "stderr",
     "output_type": "stream",
     "text": [
      "/tmp/ipykernel_2347/4285719129.py:10: SettingWithCopyWarning: \n",
      "A value is trying to be set on a copy of a slice from a DataFrame.\n",
      "Try using .loc[row_indexer,col_indexer] = value instead\n",
      "\n",
      "See the caveats in the documentation: https://pandas.pydata.org/pandas-docs/stable/user_guide/indexing.html#returning-a-view-versus-a-copy\n",
      "  nullSteps['Step Count'] = meanSteps\n"
     ]
    }
   ],
   "source": [
    "## use this space or additional cells to address the missing or outlier data. \n",
    "\n",
    "smartwatch_steps = smartwatch_o2\n",
    "nullSteps = smartwatch_steps[smartwatch_steps['Step Count'].isnull()]\n",
    "\n",
    "StepRows = smartwatch_steps[(~smartwatch_steps['Step Count'].isnull())]\n",
    "\n",
    "print(len(nullSteps), len(StepRows))\n",
    "\n",
    "nullSteps['Step Count'] = meanSteps\n",
    "StepRows = smartwatch_steps[(~smartwatch_steps['Step Count'].isnull())]\n",
    "\n",
    "smartwatch_steps = pd.concat([nullSteps, StepRows])\n",
    "\n",
    "fullTablestepMean = (smartwatch_steps['Step Count'].mean())\n",
    "print(fullTablestepMean)\n",
    "\n",
    "print(smartwatch_steps)"
   ]
  },
  {
   "cell_type": "markdown",
   "metadata": {},
   "source": [
    "Next onto the Sleep Duration column. \n",
    "\n",
    "**Question 8**: Try finding the minimum number of hours slept among participants. "
   ]
  },
  {
   "cell_type": "code",
   "execution_count": 67,
   "metadata": {},
   "outputs": [],
   "source": [
    "#minSleep = smartwatch['Sleep Duration (hours)'].min()\n",
    "\n",
    "#minSleep"
   ]
  },
  {
   "cell_type": "markdown",
   "metadata": {},
   "source": [
    "In the error message, you should see the phrase: \n",
    "\n",
    "`TypeError: '<=' not supported between instances of 'str' and 'float'`\n",
    "\n",
    "This means that the column is a combination of multiple data types. If you recall, we discussed computer readable data that columns HAVE to contain just a single data type. Having a combination of strings, characters, and numbers in a column will only cause more issues downstream. Let's try to figure out all the instances of non-numerical values in the column. \n",
    "\n",
    "First let's try to identify all the non-numerical values to make sure removing them doesn't obscure any important information. "
   ]
  },
  {
   "cell_type": "code",
   "execution_count": 68,
   "metadata": {},
   "outputs": [
    {
     "name": "stdout",
     "output_type": "stream",
     "text": [
      "ERROR\n"
     ]
    }
   ],
   "source": [
    "for hours in smartwatch['Sleep Duration (hours)'].unique():  ## Loop through each unique item in the column\n",
    "    try:\n",
    "        numericVal = float(hours)  ## first try to see if it can be converted to a number\n",
    "    except:\n",
    "        print(hours)  ## if it can't be converted print it to screen "
   ]
  },
  {
   "cell_type": "markdown",
   "metadata": {},
   "source": [
    "So, we find that the only non-numerical value is the string `ERROR`. We can fix this in two ways. First let's try fixing it by splitting the tables like we've done previously. "
   ]
  },
  {
   "cell_type": "code",
   "execution_count": 69,
   "metadata": {},
   "outputs": [
    {
     "data": {
      "text/html": [
       "<div>\n",
       "<style scoped>\n",
       "    .dataframe tbody tr th:only-of-type {\n",
       "        vertical-align: middle;\n",
       "    }\n",
       "\n",
       "    .dataframe tbody tr th {\n",
       "        vertical-align: top;\n",
       "    }\n",
       "\n",
       "    .dataframe thead th {\n",
       "        text-align: right;\n",
       "    }\n",
       "</style>\n",
       "<table border=\"1\" class=\"dataframe\">\n",
       "  <thead>\n",
       "    <tr style=\"text-align: right;\">\n",
       "      <th></th>\n",
       "      <th>User ID</th>\n",
       "      <th>Heart Rate (BPM)</th>\n",
       "      <th>Blood Oxygen Level (%)</th>\n",
       "      <th>Step Count</th>\n",
       "      <th>Sleep Duration (hours)</th>\n",
       "      <th>Activity Level</th>\n",
       "      <th>Stress Level</th>\n",
       "    </tr>\n",
       "  </thead>\n",
       "  <tbody>\n",
       "    <tr>\n",
       "      <th>8642</th>\n",
       "      <td>3476.0</td>\n",
       "      <td>75.132684</td>\n",
       "      <td>99.462778</td>\n",
       "      <td>6985.685885</td>\n",
       "      <td>ERROR</td>\n",
       "      <td>Active</td>\n",
       "      <td>3</td>\n",
       "    </tr>\n",
       "    <tr>\n",
       "      <th>1456</th>\n",
       "      <td>2997.0</td>\n",
       "      <td>54.116580</td>\n",
       "      <td>95.631824</td>\n",
       "      <td>6985.685885</td>\n",
       "      <td>ERROR</td>\n",
       "      <td>Active</td>\n",
       "      <td>1</td>\n",
       "    </tr>\n",
       "    <tr>\n",
       "      <th>4349</th>\n",
       "      <td>2677.0</td>\n",
       "      <td>73.357223</td>\n",
       "      <td>95.335209</td>\n",
       "      <td>6985.685885</td>\n",
       "      <td>ERROR</td>\n",
       "      <td>Sedentary</td>\n",
       "      <td>1</td>\n",
       "    </tr>\n",
       "    <tr>\n",
       "      <th>6992</th>\n",
       "      <td>2105.0</td>\n",
       "      <td>97.477048</td>\n",
       "      <td>94.138582</td>\n",
       "      <td>6985.685885</td>\n",
       "      <td>ERROR</td>\n",
       "      <td>Seddentary</td>\n",
       "      <td>7</td>\n",
       "    </tr>\n",
       "    <tr>\n",
       "      <th>711</th>\n",
       "      <td>2066.0</td>\n",
       "      <td>64.843081</td>\n",
       "      <td>97.841581</td>\n",
       "      <td>12722.224091</td>\n",
       "      <td>ERROR</td>\n",
       "      <td>Seddentary</td>\n",
       "      <td>7</td>\n",
       "    </tr>\n",
       "    <tr>\n",
       "      <th>...</th>\n",
       "      <td>...</td>\n",
       "      <td>...</td>\n",
       "      <td>...</td>\n",
       "      <td>...</td>\n",
       "      <td>...</td>\n",
       "      <td>...</td>\n",
       "      <td>...</td>\n",
       "    </tr>\n",
       "    <tr>\n",
       "      <th>9901</th>\n",
       "      <td>2269.0</td>\n",
       "      <td>63.369107</td>\n",
       "      <td>96.229029</td>\n",
       "      <td>6656.786482</td>\n",
       "      <td>ERROR</td>\n",
       "      <td>Active</td>\n",
       "      <td>4</td>\n",
       "    </tr>\n",
       "    <tr>\n",
       "      <th>9912</th>\n",
       "      <td>2074.0</td>\n",
       "      <td>75.933666</td>\n",
       "      <td>97.386073</td>\n",
       "      <td>1813.072248</td>\n",
       "      <td>ERROR</td>\n",
       "      <td>Sedentary</td>\n",
       "      <td>10</td>\n",
       "    </tr>\n",
       "    <tr>\n",
       "      <th>9927</th>\n",
       "      <td>3007.0</td>\n",
       "      <td>87.579045</td>\n",
       "      <td>98.768633</td>\n",
       "      <td>3727.161872</td>\n",
       "      <td>ERROR</td>\n",
       "      <td>Active</td>\n",
       "      <td>1</td>\n",
       "    </tr>\n",
       "    <tr>\n",
       "      <th>9943</th>\n",
       "      <td>2961.0</td>\n",
       "      <td>91.834863</td>\n",
       "      <td>96.145378</td>\n",
       "      <td>38831.465057</td>\n",
       "      <td>ERROR</td>\n",
       "      <td>Active</td>\n",
       "      <td>4</td>\n",
       "    </tr>\n",
       "    <tr>\n",
       "      <th>9951</th>\n",
       "      <td>3104.0</td>\n",
       "      <td>70.335328</td>\n",
       "      <td>98.560133</td>\n",
       "      <td>1997.442874</td>\n",
       "      <td>ERROR</td>\n",
       "      <td>Highly_Active</td>\n",
       "      <td>9</td>\n",
       "    </tr>\n",
       "  </tbody>\n",
       "</table>\n",
       "<p>247 rows × 7 columns</p>\n",
       "</div>"
      ],
      "text/plain": [
       "      User ID  Heart Rate (BPM)  Blood Oxygen Level (%)    Step Count  \\\n",
       "8642   3476.0         75.132684               99.462778   6985.685885   \n",
       "1456   2997.0         54.116580               95.631824   6985.685885   \n",
       "4349   2677.0         73.357223               95.335209   6985.685885   \n",
       "6992   2105.0         97.477048               94.138582   6985.685885   \n",
       "711    2066.0         64.843081               97.841581  12722.224091   \n",
       "...       ...               ...                     ...           ...   \n",
       "9901   2269.0         63.369107               96.229029   6656.786482   \n",
       "9912   2074.0         75.933666               97.386073   1813.072248   \n",
       "9927   3007.0         87.579045               98.768633   3727.161872   \n",
       "9943   2961.0         91.834863               96.145378  38831.465057   \n",
       "9951   3104.0         70.335328               98.560133   1997.442874   \n",
       "\n",
       "     Sleep Duration (hours) Activity Level Stress Level  \n",
       "8642                  ERROR         Active            3  \n",
       "1456                  ERROR         Active            1  \n",
       "4349                  ERROR      Sedentary            1  \n",
       "6992                  ERROR     Seddentary            7  \n",
       "711                   ERROR     Seddentary            7  \n",
       "...                     ...            ...          ...  \n",
       "9901                  ERROR         Active            4  \n",
       "9912                  ERROR      Sedentary           10  \n",
       "9927                  ERROR         Active            1  \n",
       "9943                  ERROR         Active            4  \n",
       "9951                  ERROR  Highly_Active            9  \n",
       "\n",
       "[247 rows x 7 columns]"
      ]
     },
     "execution_count": 69,
     "metadata": {},
     "output_type": "execute_result"
    }
   ],
   "source": [
    "errorTable = smartwatch_steps[smartwatch_steps['Sleep Duration (hours)'] == 'ERROR']\n",
    "errorTable"
   ]
  },
  {
   "cell_type": "markdown",
   "metadata": {},
   "source": [
    "Observe that we've created a table with the rows with `ERROR` in the sleep duration column. We can now replace with the `ERROR` value with our handy NaN value for doing numerical statistics. "
   ]
  },
  {
   "cell_type": "code",
   "execution_count": 70,
   "metadata": {},
   "outputs": [
    {
     "name": "stderr",
     "output_type": "stream",
     "text": [
      "/tmp/ipykernel_2347/2302362292.py:1: SettingWithCopyWarning: \n",
      "A value is trying to be set on a copy of a slice from a DataFrame.\n",
      "Try using .loc[row_indexer,col_indexer] = value instead\n",
      "\n",
      "See the caveats in the documentation: https://pandas.pydata.org/pandas-docs/stable/user_guide/indexing.html#returning-a-view-versus-a-copy\n",
      "  errorTable['Sleep Duration (hours)'] = np.nan\n"
     ]
    },
    {
     "data": {
      "text/html": [
       "<div>\n",
       "<style scoped>\n",
       "    .dataframe tbody tr th:only-of-type {\n",
       "        vertical-align: middle;\n",
       "    }\n",
       "\n",
       "    .dataframe tbody tr th {\n",
       "        vertical-align: top;\n",
       "    }\n",
       "\n",
       "    .dataframe thead th {\n",
       "        text-align: right;\n",
       "    }\n",
       "</style>\n",
       "<table border=\"1\" class=\"dataframe\">\n",
       "  <thead>\n",
       "    <tr style=\"text-align: right;\">\n",
       "      <th></th>\n",
       "      <th>User ID</th>\n",
       "      <th>Heart Rate (BPM)</th>\n",
       "      <th>Blood Oxygen Level (%)</th>\n",
       "      <th>Step Count</th>\n",
       "      <th>Sleep Duration (hours)</th>\n",
       "      <th>Activity Level</th>\n",
       "      <th>Stress Level</th>\n",
       "    </tr>\n",
       "  </thead>\n",
       "  <tbody>\n",
       "    <tr>\n",
       "      <th>8642</th>\n",
       "      <td>3476.0</td>\n",
       "      <td>75.132684</td>\n",
       "      <td>99.462778</td>\n",
       "      <td>6985.685885</td>\n",
       "      <td>NaN</td>\n",
       "      <td>Active</td>\n",
       "      <td>3</td>\n",
       "    </tr>\n",
       "    <tr>\n",
       "      <th>1456</th>\n",
       "      <td>2997.0</td>\n",
       "      <td>54.116580</td>\n",
       "      <td>95.631824</td>\n",
       "      <td>6985.685885</td>\n",
       "      <td>NaN</td>\n",
       "      <td>Active</td>\n",
       "      <td>1</td>\n",
       "    </tr>\n",
       "    <tr>\n",
       "      <th>4349</th>\n",
       "      <td>2677.0</td>\n",
       "      <td>73.357223</td>\n",
       "      <td>95.335209</td>\n",
       "      <td>6985.685885</td>\n",
       "      <td>NaN</td>\n",
       "      <td>Sedentary</td>\n",
       "      <td>1</td>\n",
       "    </tr>\n",
       "    <tr>\n",
       "      <th>6992</th>\n",
       "      <td>2105.0</td>\n",
       "      <td>97.477048</td>\n",
       "      <td>94.138582</td>\n",
       "      <td>6985.685885</td>\n",
       "      <td>NaN</td>\n",
       "      <td>Seddentary</td>\n",
       "      <td>7</td>\n",
       "    </tr>\n",
       "    <tr>\n",
       "      <th>711</th>\n",
       "      <td>2066.0</td>\n",
       "      <td>64.843081</td>\n",
       "      <td>97.841581</td>\n",
       "      <td>12722.224091</td>\n",
       "      <td>NaN</td>\n",
       "      <td>Seddentary</td>\n",
       "      <td>7</td>\n",
       "    </tr>\n",
       "    <tr>\n",
       "      <th>...</th>\n",
       "      <td>...</td>\n",
       "      <td>...</td>\n",
       "      <td>...</td>\n",
       "      <td>...</td>\n",
       "      <td>...</td>\n",
       "      <td>...</td>\n",
       "      <td>...</td>\n",
       "    </tr>\n",
       "    <tr>\n",
       "      <th>9901</th>\n",
       "      <td>2269.0</td>\n",
       "      <td>63.369107</td>\n",
       "      <td>96.229029</td>\n",
       "      <td>6656.786482</td>\n",
       "      <td>NaN</td>\n",
       "      <td>Active</td>\n",
       "      <td>4</td>\n",
       "    </tr>\n",
       "    <tr>\n",
       "      <th>9912</th>\n",
       "      <td>2074.0</td>\n",
       "      <td>75.933666</td>\n",
       "      <td>97.386073</td>\n",
       "      <td>1813.072248</td>\n",
       "      <td>NaN</td>\n",
       "      <td>Sedentary</td>\n",
       "      <td>10</td>\n",
       "    </tr>\n",
       "    <tr>\n",
       "      <th>9927</th>\n",
       "      <td>3007.0</td>\n",
       "      <td>87.579045</td>\n",
       "      <td>98.768633</td>\n",
       "      <td>3727.161872</td>\n",
       "      <td>NaN</td>\n",
       "      <td>Active</td>\n",
       "      <td>1</td>\n",
       "    </tr>\n",
       "    <tr>\n",
       "      <th>9943</th>\n",
       "      <td>2961.0</td>\n",
       "      <td>91.834863</td>\n",
       "      <td>96.145378</td>\n",
       "      <td>38831.465057</td>\n",
       "      <td>NaN</td>\n",
       "      <td>Active</td>\n",
       "      <td>4</td>\n",
       "    </tr>\n",
       "    <tr>\n",
       "      <th>9951</th>\n",
       "      <td>3104.0</td>\n",
       "      <td>70.335328</td>\n",
       "      <td>98.560133</td>\n",
       "      <td>1997.442874</td>\n",
       "      <td>NaN</td>\n",
       "      <td>Highly_Active</td>\n",
       "      <td>9</td>\n",
       "    </tr>\n",
       "  </tbody>\n",
       "</table>\n",
       "<p>247 rows × 7 columns</p>\n",
       "</div>"
      ],
      "text/plain": [
       "      User ID  Heart Rate (BPM)  Blood Oxygen Level (%)    Step Count  \\\n",
       "8642   3476.0         75.132684               99.462778   6985.685885   \n",
       "1456   2997.0         54.116580               95.631824   6985.685885   \n",
       "4349   2677.0         73.357223               95.335209   6985.685885   \n",
       "6992   2105.0         97.477048               94.138582   6985.685885   \n",
       "711    2066.0         64.843081               97.841581  12722.224091   \n",
       "...       ...               ...                     ...           ...   \n",
       "9901   2269.0         63.369107               96.229029   6656.786482   \n",
       "9912   2074.0         75.933666               97.386073   1813.072248   \n",
       "9927   3007.0         87.579045               98.768633   3727.161872   \n",
       "9943   2961.0         91.834863               96.145378  38831.465057   \n",
       "9951   3104.0         70.335328               98.560133   1997.442874   \n",
       "\n",
       "      Sleep Duration (hours) Activity Level Stress Level  \n",
       "8642                     NaN         Active            3  \n",
       "1456                     NaN         Active            1  \n",
       "4349                     NaN      Sedentary            1  \n",
       "6992                     NaN     Seddentary            7  \n",
       "711                      NaN     Seddentary            7  \n",
       "...                      ...            ...          ...  \n",
       "9901                     NaN         Active            4  \n",
       "9912                     NaN      Sedentary           10  \n",
       "9927                     NaN         Active            1  \n",
       "9943                     NaN         Active            4  \n",
       "9951                     NaN  Highly_Active            9  \n",
       "\n",
       "[247 rows x 7 columns]"
      ]
     },
     "execution_count": 70,
     "metadata": {},
     "output_type": "execute_result"
    }
   ],
   "source": [
    "errorTable['Sleep Duration (hours)'] = np.nan\n",
    "\n",
    "errorTable"
   ]
  },
  {
   "cell_type": "markdown",
   "metadata": {},
   "source": [
    "Now we could go through and put the tables back together, but another method to do this is to use a built-in function to pandas called `pd.to_numeric()`. Let's try that. "
   ]
  },
  {
   "cell_type": "code",
   "execution_count": 71,
   "metadata": {},
   "outputs": [
    {
     "data": {
      "text/html": [
       "<div>\n",
       "<style scoped>\n",
       "    .dataframe tbody tr th:only-of-type {\n",
       "        vertical-align: middle;\n",
       "    }\n",
       "\n",
       "    .dataframe tbody tr th {\n",
       "        vertical-align: top;\n",
       "    }\n",
       "\n",
       "    .dataframe thead th {\n",
       "        text-align: right;\n",
       "    }\n",
       "</style>\n",
       "<table border=\"1\" class=\"dataframe\">\n",
       "  <thead>\n",
       "    <tr style=\"text-align: right;\">\n",
       "      <th></th>\n",
       "      <th>User ID</th>\n",
       "      <th>Heart Rate (BPM)</th>\n",
       "      <th>Blood Oxygen Level (%)</th>\n",
       "      <th>Step Count</th>\n",
       "      <th>Sleep Duration (hours)</th>\n",
       "      <th>Activity Level</th>\n",
       "      <th>Stress Level</th>\n",
       "    </tr>\n",
       "  </thead>\n",
       "  <tbody>\n",
       "    <tr>\n",
       "      <th>1509</th>\n",
       "      <td>4719.0</td>\n",
       "      <td>107.126196</td>\n",
       "      <td>97.841581</td>\n",
       "      <td>6985.685885</td>\n",
       "      <td>7.213924</td>\n",
       "      <td>Sedentary</td>\n",
       "      <td>2</td>\n",
       "    </tr>\n",
       "    <tr>\n",
       "      <th>5870</th>\n",
       "      <td>1499.0</td>\n",
       "      <td>75.132684</td>\n",
       "      <td>96.833301</td>\n",
       "      <td>6985.685885</td>\n",
       "      <td>7.221605</td>\n",
       "      <td>Sedentary</td>\n",
       "      <td>9</td>\n",
       "    </tr>\n",
       "    <tr>\n",
       "      <th>204</th>\n",
       "      <td>2923.0</td>\n",
       "      <td>75.132684</td>\n",
       "      <td>98.710637</td>\n",
       "      <td>6985.685885</td>\n",
       "      <td>5.756959</td>\n",
       "      <td>Highly_Active</td>\n",
       "      <td>8</td>\n",
       "    </tr>\n",
       "    <tr>\n",
       "      <th>841</th>\n",
       "      <td>4301.0</td>\n",
       "      <td>75.132684</td>\n",
       "      <td>98.267833</td>\n",
       "      <td>6985.685885</td>\n",
       "      <td>3.113738</td>\n",
       "      <td>Highly_Active</td>\n",
       "      <td>1</td>\n",
       "    </tr>\n",
       "    <tr>\n",
       "      <th>2798</th>\n",
       "      <td>4923.0</td>\n",
       "      <td>75.132684</td>\n",
       "      <td>100.000000</td>\n",
       "      <td>6985.685885</td>\n",
       "      <td>5.880595</td>\n",
       "      <td>Sedentary</td>\n",
       "      <td>2</td>\n",
       "    </tr>\n",
       "    <tr>\n",
       "      <th>...</th>\n",
       "      <td>...</td>\n",
       "      <td>...</td>\n",
       "      <td>...</td>\n",
       "      <td>...</td>\n",
       "      <td>...</td>\n",
       "      <td>...</td>\n",
       "      <td>...</td>\n",
       "    </tr>\n",
       "    <tr>\n",
       "      <th>9994</th>\n",
       "      <td>1942.0</td>\n",
       "      <td>77.912299</td>\n",
       "      <td>98.640583</td>\n",
       "      <td>10061.145291</td>\n",
       "      <td>5.428635</td>\n",
       "      <td>Seddentary</td>\n",
       "      <td>10</td>\n",
       "    </tr>\n",
       "    <tr>\n",
       "      <th>9995</th>\n",
       "      <td>1524.0</td>\n",
       "      <td>78.819386</td>\n",
       "      <td>98.931927</td>\n",
       "      <td>2948.491953</td>\n",
       "      <td>7.402749</td>\n",
       "      <td>Active</td>\n",
       "      <td>7</td>\n",
       "    </tr>\n",
       "    <tr>\n",
       "      <th>9996</th>\n",
       "      <td>4879.0</td>\n",
       "      <td>48.632659</td>\n",
       "      <td>95.773035</td>\n",
       "      <td>4725.623070</td>\n",
       "      <td>6.382166</td>\n",
       "      <td>Sedentary</td>\n",
       "      <td>2</td>\n",
       "    </tr>\n",
       "    <tr>\n",
       "      <th>9997</th>\n",
       "      <td>2624.0</td>\n",
       "      <td>73.834442</td>\n",
       "      <td>97.945874</td>\n",
       "      <td>2571.492060</td>\n",
       "      <td>6.916549</td>\n",
       "      <td>Sedentary</td>\n",
       "      <td>4</td>\n",
       "    </tr>\n",
       "    <tr>\n",
       "      <th>9999</th>\n",
       "      <td>4113.0</td>\n",
       "      <td>70.063864</td>\n",
       "      <td>98.475606</td>\n",
       "      <td>544.696104</td>\n",
       "      <td>5.691001</td>\n",
       "      <td>Actve</td>\n",
       "      <td>5</td>\n",
       "    </tr>\n",
       "  </tbody>\n",
       "</table>\n",
       "<p>10000 rows × 7 columns</p>\n",
       "</div>"
      ],
      "text/plain": [
       "      User ID  Heart Rate (BPM)  Blood Oxygen Level (%)    Step Count  \\\n",
       "1509   4719.0        107.126196               97.841581   6985.685885   \n",
       "5870   1499.0         75.132684               96.833301   6985.685885   \n",
       "204    2923.0         75.132684               98.710637   6985.685885   \n",
       "841    4301.0         75.132684               98.267833   6985.685885   \n",
       "2798   4923.0         75.132684              100.000000   6985.685885   \n",
       "...       ...               ...                     ...           ...   \n",
       "9994   1942.0         77.912299               98.640583  10061.145291   \n",
       "9995   1524.0         78.819386               98.931927   2948.491953   \n",
       "9996   4879.0         48.632659               95.773035   4725.623070   \n",
       "9997   2624.0         73.834442               97.945874   2571.492060   \n",
       "9999   4113.0         70.063864               98.475606    544.696104   \n",
       "\n",
       "      Sleep Duration (hours) Activity Level Stress Level  \n",
       "1509                7.213924      Sedentary            2  \n",
       "5870                7.221605      Sedentary            9  \n",
       "204                 5.756959  Highly_Active            8  \n",
       "841                 3.113738  Highly_Active            1  \n",
       "2798                5.880595      Sedentary            2  \n",
       "...                      ...            ...          ...  \n",
       "9994                5.428635     Seddentary           10  \n",
       "9995                7.402749         Active            7  \n",
       "9996                6.382166      Sedentary            2  \n",
       "9997                6.916549      Sedentary            4  \n",
       "9999                5.691001          Actve            5  \n",
       "\n",
       "[10000 rows x 7 columns]"
      ]
     },
     "execution_count": 71,
     "metadata": {},
     "output_type": "execute_result"
    }
   ],
   "source": [
    "## create a copy of the table \n",
    "smartwatch_sleep = smartwatch_steps\n",
    "\n",
    "smartwatch_sleep['Sleep Duration (hours)'] = pd.to_numeric(smartwatch_sleep['Sleep Duration (hours)'], errors='coerce')\n",
    "\n",
    "smartwatch_sleep"
   ]
  },
  {
   "cell_type": "markdown",
   "metadata": {},
   "source": [
    "Now we can finish **Question 8** and find the minimum, maximum, and mean of the sleep duration column. "
   ]
  },
  {
   "cell_type": "code",
   "execution_count": 72,
   "metadata": {},
   "outputs": [
    {
     "data": {
      "text/plain": [
       "(np.float64(-0.1944527906201543),\n",
       " np.float64(12.140232872862926),\n",
       " np.float64(6.505462918406444))"
      ]
     },
     "execution_count": 72,
     "metadata": {},
     "output_type": "execute_result"
    }
   ],
   "source": [
    "minSleep = smartwatch_sleep['Sleep Duration (hours)'].min()\n",
    "\n",
    "maxSleep = smartwatch_sleep['Sleep Duration (hours)'].max()\n",
    "\n",
    "meanSleep = smartwatch_sleep['Sleep Duration (hours)'].mean()\n",
    "\n",
    "minSleep, maxSleep, meanSleep"
   ]
  },
  {
   "cell_type": "code",
   "execution_count": 73,
   "metadata": {},
   "outputs": [
    {
     "data": {
      "text/html": [
       "<p><strong><pre style='display: inline;'>Question 8</pre></strong> passed! 🚀</p>"
      ],
      "text/plain": [
       "Question 8 results: All test cases passed!"
      ]
     },
     "execution_count": 73,
     "metadata": {},
     "output_type": "execute_result"
    }
   ],
   "source": [
    "grader.check('q8')"
   ]
  },
  {
   "cell_type": "markdown",
   "metadata": {},
   "source": [
    "**Question 9**: Decide how you want to deal with missing and outlier values in the sleep column. Set your final table equal to the variable `smartwatch_updated_sleep`. Use the space below to explain your decisions. \n",
    "\n",
    "*Remember to start with the `smartwatch_sleep` table that we just created.*\n",
    "\n",
    "Notes: Refer to [this article](https://pmc.ncbi.nlm.nih.gov/articles/PMC5548942/) on methods of handling these type of instances in data. Keep in mind, you might find that either there are no missing values or no outliers. That's okay, just indicate that in the written space below and update the table i.e. `smartwatch_updated_sleep = smartwatch_sleep`\n",
    "\n",
    "ANSWER: For the sleep column, I have chosen to mean impute for all missing values, and for the one value below zero. It is not possible to get negative sleep, so that value has been altered. It is possible, though, to go 24 hours with no sleep, so no further values have been changed. \n"
   ]
  },
  {
   "cell_type": "code",
   "execution_count": 74,
   "metadata": {},
   "outputs": [
    {
     "name": "stdout",
     "output_type": "stream",
     "text": [
      "397 1\n"
     ]
    }
   ],
   "source": [
    "nullsleep = smartwatch_sleep[smartwatch_sleep['Sleep Duration (hours)'].isnull()]\n",
    "outliersleep = smartwatch_sleep[smartwatch_sleep['Sleep Duration (hours)'] < 0]\n",
    "\n",
    "print(len(nullsleep), len(outliersleep))"
   ]
  },
  {
   "cell_type": "code",
   "execution_count": 75,
   "metadata": {},
   "outputs": [
    {
     "name": "stdout",
     "output_type": "stream",
     "text": [
      "6.506132909977347\n",
      "      User ID  Heart Rate (BPM)  Blood Oxygen Level (%)    Step Count  \\\n",
      "3366   1608.0         78.832837              100.000000   7122.866517   \n",
      "8642   3476.0         75.132684               99.462778   6985.685885   \n",
      "1456   2997.0         54.116580               95.631824   6985.685885   \n",
      "4349   2677.0         73.357223               95.335209   6985.685885   \n",
      "5177   2997.0         70.484333               97.615592   6985.685885   \n",
      "...       ...               ...                     ...           ...   \n",
      "9994   1942.0         77.912299               98.640583  10061.145291   \n",
      "9995   1524.0         78.819386               98.931927   2948.491953   \n",
      "9996   4879.0         48.632659               95.773035   4725.623070   \n",
      "9997   2624.0         73.834442               97.945874   2571.492060   \n",
      "9999   4113.0         70.063864               98.475606    544.696104   \n",
      "\n",
      "      Sleep Duration (hours) Activity Level Stress Level  \n",
      "3366                6.505463      Sedentary           10  \n",
      "8642                6.505463         Active            3  \n",
      "1456                6.505463         Active            1  \n",
      "4349                6.505463      Sedentary            1  \n",
      "5177                6.505463          Actve            1  \n",
      "...                      ...            ...          ...  \n",
      "9994                5.428635     Seddentary           10  \n",
      "9995                7.402749         Active            7  \n",
      "9996                6.382166      Sedentary            2  \n",
      "9997                6.916549      Sedentary            4  \n",
      "9999                5.691001          Actve            5  \n",
      "\n",
      "[10000 rows x 7 columns]\n"
     ]
    },
    {
     "name": "stderr",
     "output_type": "stream",
     "text": [
      "/tmp/ipykernel_2347/1010596254.py:7: SettingWithCopyWarning: \n",
      "A value is trying to be set on a copy of a slice from a DataFrame.\n",
      "Try using .loc[row_indexer,col_indexer] = value instead\n",
      "\n",
      "See the caveats in the documentation: https://pandas.pydata.org/pandas-docs/stable/user_guide/indexing.html#returning-a-view-versus-a-copy\n",
      "  nullsleep['Sleep Duration (hours)'] = meanSleep\n",
      "/tmp/ipykernel_2347/1010596254.py:8: SettingWithCopyWarning: \n",
      "A value is trying to be set on a copy of a slice from a DataFrame.\n",
      "Try using .loc[row_indexer,col_indexer] = value instead\n",
      "\n",
      "See the caveats in the documentation: https://pandas.pydata.org/pandas-docs/stable/user_guide/indexing.html#returning-a-view-versus-a-copy\n",
      "  outliersleep['Sleep Duration (hours)'] = meanSleep\n"
     ]
    }
   ],
   "source": [
    "## use this space or additional cells to address the missing or outlier data. \n",
    "smartwatch_updated_sleep = smartwatch_sleep\n",
    "\n",
    "nullsleep = smartwatch_updated_sleep[smartwatch_updated_sleep['Sleep Duration (hours)'].isnull()]\n",
    "outliersleep = smartwatch_updated_sleep[smartwatch_updated_sleep['Sleep Duration (hours)'] < 0]\n",
    "\n",
    "nullsleep['Sleep Duration (hours)'] = meanSleep\n",
    "outliersleep['Sleep Duration (hours)'] = meanSleep\n",
    "\n",
    "sleepRows = smartwatch_updated_sleep[(~smartwatch_updated_sleep['Sleep Duration (hours)'].isnull()) & (smartwatch_updated_sleep['Sleep Duration (hours)'] >= 0)]\n",
    "\n",
    "smartwatch_updated_sleep = pd.concat([outliersleep, nullsleep, sleepRows])\n",
    "\n",
    "fullTablesleepMean = (smartwatch_updated_sleep['Sleep Duration (hours)'].mean())\n",
    "print(fullTablesleepMean)\n",
    "print(smartwatch_updated_sleep)"
   ]
  },
  {
   "cell_type": "markdown",
   "metadata": {},
   "source": [
    "We're going to skip the `Activity Level` column for a minute and look at the `Stress Level` column. If we try getting the minimum, we'll find the same error as in the Sleep column where we have mixed data types (strings and numerical values). Let's use the same type of loop to make sure we don't obscure any data by forcing the strings to NaN values. "
   ]
  },
  {
   "cell_type": "code",
   "execution_count": 76,
   "metadata": {},
   "outputs": [
    {
     "name": "stdout",
     "output_type": "stream",
     "text": [
      "Very High\n",
      "nan\n"
     ]
    }
   ],
   "source": [
    "for item in smartwatch_updated_sleep['Stress Level'].unique():\n",
    "    try:\n",
    "        int(item)\n",
    "    except:\n",
    "        print(item)"
   ]
  },
  {
   "cell_type": "markdown",
   "metadata": {},
   "source": [
    "**Question 10**: \n",
    "\n",
    "What might you decide to do to deal with the `Very High` value? \n",
    "\n",
    "Go ahead and do so below and give a brief case for doing so here. Assign your table to the variable `smartwatch_stress`. \n",
    "\n",
    "ANSWER: For the 'Very High' value, I decided to replace the strings with the max value of the dataset. This preserves the meaning of the 'Very High' string, and therefore raises the mean of the dataset. It would seem inapprpriate to delate these values, as this would decrease variability in the data, or to mean impute, as this would not reflect the 'Very High' values.\n"
   ]
  },
  {
   "cell_type": "code",
   "execution_count": 77,
   "metadata": {},
   "outputs": [
    {
     "name": "stdout",
     "output_type": "stream",
     "text": [
      "      User ID  Heart Rate (BPM)  Blood Oxygen Level (%)    Step Count  \\\n",
      "3366   1608.0         78.832837              100.000000   7122.866517   \n",
      "8642   3476.0         75.132684               99.462778   6985.685885   \n",
      "1456   2997.0         54.116580               95.631824   6985.685885   \n",
      "4349   2677.0         73.357223               95.335209   6985.685885   \n",
      "5177   2997.0         70.484333               97.615592   6985.685885   \n",
      "...       ...               ...                     ...           ...   \n",
      "9576   3043.0         84.579910               96.057166   8843.368567   \n",
      "9747   2206.0         52.967772               99.168017   5499.206797   \n",
      "9769   2269.0         90.464655               97.377102    266.147855   \n",
      "9826   3569.0         55.151993               99.312648     40.324128   \n",
      "9873   3259.0         43.889444               95.345083  12980.404669   \n",
      "\n",
      "      Sleep Duration (hours) Activity Level Stress Level  \n",
      "3366                6.505463      Sedentary           10  \n",
      "8642                6.505463         Active            3  \n",
      "1456                6.505463         Active            1  \n",
      "4349                6.505463      Sedentary            1  \n",
      "5177                6.505463          Actve            1  \n",
      "...                      ...            ...          ...  \n",
      "9576                4.237249     Seddentary          NaN  \n",
      "9747                6.063044     Seddentary          NaN  \n",
      "9769                8.143383  Highly Active          NaN  \n",
      "9826                8.376416  Highly_Active          NaN  \n",
      "9873                7.140447     Seddentary          NaN  \n",
      "\n",
      "[10000 rows x 7 columns]\n"
     ]
    },
    {
     "name": "stderr",
     "output_type": "stream",
     "text": [
      "/tmp/ipykernel_2347/3772854464.py:10: SettingWithCopyWarning: \n",
      "A value is trying to be set on a copy of a slice from a DataFrame.\n",
      "Try using .loc[row_indexer,col_indexer] = value instead\n",
      "\n",
      "See the caveats in the documentation: https://pandas.pydata.org/pandas-docs/stable/user_guide/indexing.html#returning-a-view-versus-a-copy\n",
      "  HighTable['Stress Level'] = maxstress\n"
     ]
    }
   ],
   "source": [
    "#dealing with Very High value\n",
    "\n",
    "smartwatch_stress = smartwatch_updated_sleep\n",
    "\n",
    "HighTable = smartwatch_stress[smartwatch_stress['Stress Level'] == 'Very High']\n",
    "StressRows = smartwatch_stress[(smartwatch_stress['Stress Level'] != 'Very High') & (~smartwatch_stress['Stress Level'].isnull())]\n",
    "nullstress = smartwatch_stress[smartwatch_stress['Stress Level'].isnull()]\n",
    "\n",
    "maxstress = StressRows['Stress Level'].max()\n",
    "HighTable['Stress Level'] = maxstress\n",
    "\n",
    "smartwatch_stress = pd.concat([StressRows, HighTable, nullstress])\n",
    "print(smartwatch_stress)\n"
   ]
  },
  {
   "cell_type": "markdown",
   "metadata": {},
   "source": [
    "Finally, let's go back to the `Activity Level` column and investigate what types of values we find there. "
   ]
  },
  {
   "cell_type": "code",
   "execution_count": 78,
   "metadata": {},
   "outputs": [
    {
     "data": {
      "text/plain": [
       "array(['Highly Active', 'Highly_Active', 'Actve', 'Seddentary',\n",
       "       'Sedentary', 'Active', nan], dtype=object)"
      ]
     },
     "execution_count": 78,
     "metadata": {},
     "output_type": "execute_result"
    }
   ],
   "source": [
    "smartwatch['Activity Level'].unique()"
   ]
  },
  {
   "cell_type": "markdown",
   "metadata": {},
   "source": [
    "**Question 12**: \n",
    "\n",
    "What do you notice? There are several values that could and should be combined because they represent the same information. Let's go ahead and do that. While combining these columns, let's also create a new column `NumActivity` where we give a numerical value to represent the activity level. Assign your final table to the variable `final_table`. \n",
    "\n",
    "`Highly Active` = `1`\n",
    "\n",
    "`Active` = `2`\n",
    "\n",
    "`Sedentary` = `3`\n",
    "\n"
   ]
  },
  {
   "cell_type": "code",
   "execution_count": 79,
   "metadata": {},
   "outputs": [
    {
     "name": "stderr",
     "output_type": "stream",
     "text": [
      "/tmp/ipykernel_2347/2716100669.py:6: SettingWithCopyWarning: \n",
      "A value is trying to be set on a copy of a slice from a DataFrame.\n",
      "Try using .loc[row_indexer,col_indexer] = value instead\n",
      "\n",
      "See the caveats in the documentation: https://pandas.pydata.org/pandas-docs/stable/user_guide/indexing.html#returning-a-view-versus-a-copy\n",
      "  highlyActive['NumActivity'] = 1 ## set the number for the numerical value\n",
      "/tmp/ipykernel_2347/2716100669.py:10: SettingWithCopyWarning: \n",
      "A value is trying to be set on a copy of a slice from a DataFrame.\n",
      "Try using .loc[row_indexer,col_indexer] = value instead\n",
      "\n",
      "See the caveats in the documentation: https://pandas.pydata.org/pandas-docs/stable/user_guide/indexing.html#returning-a-view-versus-a-copy\n",
      "  active['Activity Level'] = 'Active'  ## Reset the text in the column to Active\n",
      "/tmp/ipykernel_2347/2716100669.py:11: SettingWithCopyWarning: \n",
      "A value is trying to be set on a copy of a slice from a DataFrame.\n",
      "Try using .loc[row_indexer,col_indexer] = value instead\n",
      "\n",
      "See the caveats in the documentation: https://pandas.pydata.org/pandas-docs/stable/user_guide/indexing.html#returning-a-view-versus-a-copy\n",
      "  active['NumActivity'] = 2 ## set the number for the numerical value\n",
      "/tmp/ipykernel_2347/2716100669.py:15: SettingWithCopyWarning: \n",
      "A value is trying to be set on a copy of a slice from a DataFrame.\n",
      "Try using .loc[row_indexer,col_indexer] = value instead\n",
      "\n",
      "See the caveats in the documentation: https://pandas.pydata.org/pandas-docs/stable/user_guide/indexing.html#returning-a-view-versus-a-copy\n",
      "  sedentary['Activity Level'] = 'Sedentary'  ## Reset the text in the column to sedentary\n",
      "/tmp/ipykernel_2347/2716100669.py:16: SettingWithCopyWarning: \n",
      "A value is trying to be set on a copy of a slice from a DataFrame.\n",
      "Try using .loc[row_indexer,col_indexer] = value instead\n",
      "\n",
      "See the caveats in the documentation: https://pandas.pydata.org/pandas-docs/stable/user_guide/indexing.html#returning-a-view-versus-a-copy\n",
      "  sedentary['NumActivity'] = 3 ## set the number for the numerical value\n"
     ]
    },
    {
     "data": {
      "text/html": [
       "<div>\n",
       "<style scoped>\n",
       "    .dataframe tbody tr th:only-of-type {\n",
       "        vertical-align: middle;\n",
       "    }\n",
       "\n",
       "    .dataframe tbody tr th {\n",
       "        vertical-align: top;\n",
       "    }\n",
       "\n",
       "    .dataframe thead th {\n",
       "        text-align: right;\n",
       "    }\n",
       "</style>\n",
       "<table border=\"1\" class=\"dataframe\">\n",
       "  <thead>\n",
       "    <tr style=\"text-align: right;\">\n",
       "      <th></th>\n",
       "      <th>User ID</th>\n",
       "      <th>Heart Rate (BPM)</th>\n",
       "      <th>Blood Oxygen Level (%)</th>\n",
       "      <th>Step Count</th>\n",
       "      <th>Sleep Duration (hours)</th>\n",
       "      <th>Activity Level</th>\n",
       "      <th>Stress Level</th>\n",
       "      <th>NumActivity</th>\n",
       "    </tr>\n",
       "  </thead>\n",
       "  <tbody>\n",
       "    <tr>\n",
       "      <th>1009</th>\n",
       "      <td>1223.0</td>\n",
       "      <td>84.954371</td>\n",
       "      <td>97.841581</td>\n",
       "      <td>3505.081399</td>\n",
       "      <td>6.505463</td>\n",
       "      <td>Highly Active</td>\n",
       "      <td>8</td>\n",
       "      <td>1.0</td>\n",
       "    </tr>\n",
       "    <tr>\n",
       "      <th>1335</th>\n",
       "      <td>1193.0</td>\n",
       "      <td>57.231545</td>\n",
       "      <td>97.841581</td>\n",
       "      <td>2184.899471</td>\n",
       "      <td>6.505463</td>\n",
       "      <td>Highly Active</td>\n",
       "      <td>5</td>\n",
       "      <td>1.0</td>\n",
       "    </tr>\n",
       "    <tr>\n",
       "      <th>2</th>\n",
       "      <td>1860.0</td>\n",
       "      <td>75.132684</td>\n",
       "      <td>97.052954</td>\n",
       "      <td>2826.521994</td>\n",
       "      <td>6.505463</td>\n",
       "      <td>Highly Active</td>\n",
       "      <td>5</td>\n",
       "      <td>1.0</td>\n",
       "    </tr>\n",
       "    <tr>\n",
       "      <th>9438</th>\n",
       "      <td>4411.0</td>\n",
       "      <td>75.132684</td>\n",
       "      <td>99.524016</td>\n",
       "      <td>11209.020829</td>\n",
       "      <td>6.505463</td>\n",
       "      <td>Highly Active</td>\n",
       "      <td>3</td>\n",
       "      <td>1.0</td>\n",
       "    </tr>\n",
       "    <tr>\n",
       "      <th>1262</th>\n",
       "      <td>4465.0</td>\n",
       "      <td>75.132684</td>\n",
       "      <td>97.113032</td>\n",
       "      <td>51.448103</td>\n",
       "      <td>6.505463</td>\n",
       "      <td>Highly Active</td>\n",
       "      <td>6</td>\n",
       "      <td>1.0</td>\n",
       "    </tr>\n",
       "    <tr>\n",
       "      <th>...</th>\n",
       "      <td>...</td>\n",
       "      <td>...</td>\n",
       "      <td>...</td>\n",
       "      <td>...</td>\n",
       "      <td>...</td>\n",
       "      <td>...</td>\n",
       "      <td>...</td>\n",
       "      <td>...</td>\n",
       "    </tr>\n",
       "    <tr>\n",
       "      <th>9898</th>\n",
       "      <td>1409.0</td>\n",
       "      <td>79.941705</td>\n",
       "      <td>98.716816</td>\n",
       "      <td>619.353083</td>\n",
       "      <td>8.143443</td>\n",
       "      <td>NaN</td>\n",
       "      <td>8</td>\n",
       "      <td>NaN</td>\n",
       "    </tr>\n",
       "    <tr>\n",
       "      <th>9991</th>\n",
       "      <td>4289.0</td>\n",
       "      <td>91.381582</td>\n",
       "      <td>95.741838</td>\n",
       "      <td>3930.126338</td>\n",
       "      <td>5.804083</td>\n",
       "      <td>NaN</td>\n",
       "      <td>8</td>\n",
       "      <td>NaN</td>\n",
       "    </tr>\n",
       "    <tr>\n",
       "      <th>1909</th>\n",
       "      <td>4005.0</td>\n",
       "      <td>70.466514</td>\n",
       "      <td>99.406450</td>\n",
       "      <td>29024.172293</td>\n",
       "      <td>4.067177</td>\n",
       "      <td>NaN</td>\n",
       "      <td>NaN</td>\n",
       "      <td>NaN</td>\n",
       "    </tr>\n",
       "    <tr>\n",
       "      <th>2360</th>\n",
       "      <td>1515.0</td>\n",
       "      <td>61.019726</td>\n",
       "      <td>96.624562</td>\n",
       "      <td>1540.652218</td>\n",
       "      <td>6.780781</td>\n",
       "      <td>NaN</td>\n",
       "      <td>NaN</td>\n",
       "      <td>NaN</td>\n",
       "    </tr>\n",
       "    <tr>\n",
       "      <th>5673</th>\n",
       "      <td>2349.0</td>\n",
       "      <td>97.047384</td>\n",
       "      <td>100.000000</td>\n",
       "      <td>6218.255180</td>\n",
       "      <td>7.723901</td>\n",
       "      <td>NaN</td>\n",
       "      <td>NaN</td>\n",
       "      <td>NaN</td>\n",
       "    </tr>\n",
       "  </tbody>\n",
       "</table>\n",
       "<p>10000 rows × 8 columns</p>\n",
       "</div>"
      ],
      "text/plain": [
       "      User ID  Heart Rate (BPM)  Blood Oxygen Level (%)    Step Count  \\\n",
       "1009   1223.0         84.954371               97.841581   3505.081399   \n",
       "1335   1193.0         57.231545               97.841581   2184.899471   \n",
       "2      1860.0         75.132684               97.052954   2826.521994   \n",
       "9438   4411.0         75.132684               99.524016  11209.020829   \n",
       "1262   4465.0         75.132684               97.113032     51.448103   \n",
       "...       ...               ...                     ...           ...   \n",
       "9898   1409.0         79.941705               98.716816    619.353083   \n",
       "9991   4289.0         91.381582               95.741838   3930.126338   \n",
       "1909   4005.0         70.466514               99.406450  29024.172293   \n",
       "2360   1515.0         61.019726               96.624562   1540.652218   \n",
       "5673   2349.0         97.047384              100.000000   6218.255180   \n",
       "\n",
       "      Sleep Duration (hours) Activity Level Stress Level  NumActivity  \n",
       "1009                6.505463  Highly Active            8          1.0  \n",
       "1335                6.505463  Highly Active            5          1.0  \n",
       "2                   6.505463  Highly Active            5          1.0  \n",
       "9438                6.505463  Highly Active            3          1.0  \n",
       "1262                6.505463  Highly Active            6          1.0  \n",
       "...                      ...            ...          ...          ...  \n",
       "9898                8.143443            NaN            8          NaN  \n",
       "9991                5.804083            NaN            8          NaN  \n",
       "1909                4.067177            NaN          NaN          NaN  \n",
       "2360                6.780781            NaN          NaN          NaN  \n",
       "5673                7.723901            NaN          NaN          NaN  \n",
       "\n",
       "[10000 rows x 8 columns]"
      ]
     },
     "execution_count": 79,
     "metadata": {},
     "output_type": "execute_result"
    }
   ],
   "source": [
    "## Highly Active \n",
    "\n",
    "highlyActive = smartwatch_stress[(smartwatch_stress['Activity Level'] == 'Highly_Active') | (smartwatch_stress['Activity Level'] == 'Highly Active')]  ## Pull out rows for two unique values matching highly active\n",
    "#highlyActive['Activity Level'] = 'Highly Active'  ## Reset the text in the column to either 'Highly Active'\n",
    "highlyActive.loc[:,'Activity Level'] = 'Highly Active'\n",
    "highlyActive['NumActivity'] = 1 ## set the number for the numerical value \n",
    "\n",
    "## Active\n",
    "active = smartwatch_stress[(smartwatch_stress['Activity Level'] == 'Actve') | (smartwatch_stress['Activity Level'] == 'Active')]  ## Pull out rows for two unique values matching active\n",
    "active['Activity Level'] = 'Active'  ## Reset the text in the column to Active\n",
    "active['NumActivity'] = 2 ## set the number for the numerical value \n",
    "\n",
    "## Sedentary \n",
    "sedentary = smartwatch_stress[(smartwatch_stress['Activity Level'] == 'Seddentary') | (smartwatch_stress['Activity Level'] == 'Sedentary')]  ## Pull out rows for two unique values matching sedentary\n",
    "sedentary['Activity Level'] = 'Sedentary'  ## Reset the text in the column to sedentary\n",
    "sedentary['NumActivity'] = 3 ## set the number for the numerical value\n",
    "\n",
    "final_table = pd.concat([highlyActive, active, sedentary, smartwatch_stress[smartwatch_stress['Activity Level'].isnull()]])\n",
    "final_table\n"
   ]
  },
  {
   "cell_type": "markdown",
   "metadata": {},
   "source": [
    "Let's check to make sure that we no longer have any missing values in each column (besides the Activity Level/NumActivity, Stress Level, and User ID columns). You likely either removed those rows or imputed a value to substitute the missing values. "
   ]
  },
  {
   "cell_type": "code",
   "execution_count": 80,
   "metadata": {},
   "outputs": [
    {
     "data": {
      "text/plain": [
       "User ID                   201\n",
       "Heart Rate (BPM)            0\n",
       "Blood Oxygen Level (%)      0\n",
       "Step Count                  0\n",
       "Sleep Duration (hours)      0\n",
       "Activity Level            200\n",
       "Stress Level              200\n",
       "NumActivity               200\n",
       "dtype: int64"
      ]
     },
     "execution_count": 80,
     "metadata": {},
     "output_type": "execute_result"
    }
   ],
   "source": [
    "final_table.isnull().sum()"
   ]
  },
  {
   "cell_type": "markdown",
   "metadata": {},
   "source": [
    "Then let's use the info function to make sure each column has the data type we're expecting. "
   ]
  },
  {
   "cell_type": "code",
   "execution_count": 81,
   "metadata": {},
   "outputs": [
    {
     "name": "stdout",
     "output_type": "stream",
     "text": [
      "<class 'pandas.core.frame.DataFrame'>\n",
      "Index: 10000 entries, 1009 to 5673\n",
      "Data columns (total 8 columns):\n",
      " #   Column                  Non-Null Count  Dtype  \n",
      "---  ------                  --------------  -----  \n",
      " 0   User ID                 9799 non-null   float64\n",
      " 1   Heart Rate (BPM)        10000 non-null  float64\n",
      " 2   Blood Oxygen Level (%)  10000 non-null  float64\n",
      " 3   Step Count              10000 non-null  float64\n",
      " 4   Sleep Duration (hours)  10000 non-null  float64\n",
      " 5   Activity Level          9800 non-null   object \n",
      " 6   Stress Level            9800 non-null   object \n",
      " 7   NumActivity             9800 non-null   float64\n",
      "dtypes: float64(6), object(2)\n",
      "memory usage: 703.1+ KB\n"
     ]
    }
   ],
   "source": [
    "final_table.info()"
   ]
  },
  {
   "cell_type": "markdown",
   "metadata": {},
   "source": [
    "**Question 13**: \n",
    "\n",
    "Let's visualize two of the variables. Let's pick `Heart Rate (BPM)` and then you can select any other numerical variable. We're going to create a scatter plot using matplotlib.pyplot. Example code is: \n",
    "\n",
    "`plt.scatter(x, y)` where x and y are your columns of data such as df['label']\n",
    "\n",
    "Also try including a size parameter to make your points smaller to better see patterns. We'll talk more about creating figures in python in a few weeks, but for now let's just look at the broad patterns. \n",
    "\n",
    "Example of including size parameter: \n",
    "\n",
    "`plt.scatter(x, y, s=1)` Try changing the `s` parameter to 10, 1, 0.5, and 0.1. \n",
    "\n",
    "What do you notice?\n",
    "\n",
    "ANSWER: I have decided to plot heart rate on the x-axis, and step count on the y-axis. The plot produced does not seem to accurately reflect expectations of a heart rate/step count relationship. I would expect heart rate to increase with greater step count, growing along with physical activity. This graph does not show this expected outcome, and instead appears to show a normal distribution, with step count the highest for individuals with a heart rate around 70-90, and lower for heart rates above and below those values. A spike of values can be seen around heart rate's mean, 75, as I performed mean imputation on null values for that column. "
   ]
  },
  {
   "cell_type": "code",
   "execution_count": 82,
   "metadata": {},
   "outputs": [
    {
     "data": {
      "text/plain": [
       "<matplotlib.collections.PathCollection at 0x7f57b1269a60>"
      ]
     },
     "execution_count": 82,
     "metadata": {},
     "output_type": "execute_result"
    },
    {
     "data": {
      "image/png": "[encoded data removed]",
      "text/plain": [
       "<Figure size 640x480 with 1 Axes>"
      ]
     },
     "metadata": {},
     "output_type": "display_data"
    }
   ],
   "source": [
    "plt.scatter((final_table['Heart Rate (BPM)']), (final_table['Step Count']), s=0.5)"
   ]
  },
  {
   "cell_type": "markdown",
   "metadata": {},
   "source": [
    "**Question 14**: \n",
    "\n",
    "\n",
    "Read in the CSV table where we kept all the NaN values instead of removing or imputing them. Repeat the exact same visualization as above with this data. \n",
    "\n",
    "Compare the two figures. What do you notice?\n",
    "\n",
    "ANSWER: The visualization for the table with all the NaN values shows a mostly similar distribution to the table with the imputed values. The main difference is the absence of a spike at the mean, where mean imputation created additional values in the previous figure. \n"
   ]
  },
  {
   "cell_type": "code",
   "execution_count": 83,
   "metadata": {},
   "outputs": [],
   "source": [
    "nanTable = pd.read_csv('smartwatch_nan_vals.csv')"
   ]
  },
  {
   "cell_type": "code",
   "execution_count": 87,
   "metadata": {},
   "outputs": [
    {
     "data": {
      "text/plain": [
       "<matplotlib.collections.PathCollection at 0x7f57ad736ae0>"
      ]
     },
     "execution_count": 87,
     "metadata": {},
     "output_type": "execute_result"
    },
    {
     "data": {
      "image/png": "[encoded data removed]",
      "text/plain": [
       "<Figure size 640x480 with 1 Axes>"
      ]
     },
     "metadata": {},
     "output_type": "display_data"
    }
   ],
   "source": [
    "plt.scatter((nanTable['Heart Rate (BPM)']), (nanTable['Step Count']), s=0.5)"
   ]
  },
  {
   "cell_type": "markdown",
   "metadata": {},
   "source": [
    "**Question 15**: \n",
    "\n",
    "\n",
    "Does the amount of steps signficantly differ between the different activity level groups? \n",
    "\n",
    "Hint: Try using a boxplot (`sns.boxplot`) to first visualize the problem. Then you can use scipy.stats to run an ANOVA. "
   ]
  },
  {
   "cell_type": "code",
   "execution_count": 85,
   "metadata": {},
   "outputs": [
    {
     "data": {
      "text/plain": [
       "<Axes: xlabel='Activity Level', ylabel='Step Count'>"
      ]
     },
     "execution_count": 85,
     "metadata": {},
     "output_type": "execute_result"
    },
    {
     "data": {
      "image/png": "[encoded data removed]",
      "text/plain": [
       "<Figure size 640x480 with 1 Axes>"
      ]
     },
     "metadata": {},
     "output_type": "display_data"
    }
   ],
   "source": [
    "## Visualization \n",
    "\n",
    "sns.boxplot(x = (final_table['Activity Level']), y = (final_table['Step Count']))\n"
   ]
  },
  {
   "cell_type": "code",
   "execution_count": 86,
   "metadata": {},
   "outputs": [
    {
     "name": "stdout",
     "output_type": "stream",
     "text": [
      "ANOVA test statistic: 0.155, p-value: 0.857\n"
     ]
    }
   ],
   "source": [
    "from scipy.stats import f_oneway\n",
    "\n",
    "## create a table for each activity level group\n",
    "sed = final_table[(final_table['Activity Level'] == 'Sedentary')]  ## sedentary rows\n",
    "act = final_table[(final_table['Activity Level'] == 'Active')] ## active rows\n",
    "hact = final_table[(final_table['Activity Level'] == 'Highly Active')] ## highly active rows \n",
    "\n",
    "stat, pval = f_oneway(sed['Step Count'], act['Step Count'], hact['Step Count'])\n",
    "\n",
    "\n",
    "print(f\"ANOVA test statistic: {stat:.3f}, p-value: {pval:.3f}\")\n"
   ]
  },
  {
   "cell_type": "markdown",
   "metadata": {},
   "source": [
    "Is there significant difference between the groups' step counts?  \n",
    "\n",
    "ANSWER: No, there is no significant difference between the group's step counts. The ANOVA test also shows us that the result is not statistically significant.\n"
   ]
  },
  {
   "cell_type": "markdown",
   "metadata": {},
   "source": [
    "**Question 16**\n",
    "\n",
    "If you were to present your findings from this dataset to a broader audience (such as policymakers, healthcare providers, or the general public), how would you communicate key insights responsibly? What considerations would you take into account to avoid misrepresenting the data or reinforcing biases?\n",
    "\n",
    "ANSWER: In order to represent a dataset like this effectively when reporting findings, it would be important to be transparent, and to carefully consider visualization and communication choices. This process would include explaining data cleaning choices, such as which outliers may have been removed and why. To take an example from this data, it would be important to explain that the data showed heart rate values over 200, which were mean imputed due to the impossibly high numbers. It would also be valuable to look more closely for potential biases, seeing perhaps if other variables outside the scope of this dataset could have an impact on heart rate. This would include considering patterns in the outliers, to see if they reflected random smartwatch failures, or if they showed a greater pattern. These possible biases or limitations, for all variables and for the dataset as a whole, should be clearly stated in the presentation of data. In presenting findings, it is also crucial to be clear in how the research was performed, what methodology was used, and how the sample size was formed. This would allow a broader audience to be able to explore the dataset for themselves, and understand the context the data was produced in. Any kind of communication would also have to present all the data, and not only the segments that supported key findings. And, when creating visualizations, data should be presented clearly, without misleading titles or scales. This would require thought during the process of data visualization, in order to consider how the data could be misleading if handled incorrectly. \n",
    "\n"
   ]
  }
 ],
 "metadata": {
  "kernelspec": {
   "display_name": "Python 3",
   "language": "python",
   "name": "python3"
  },
  "language_info": {
   "codemirror_mode": {
    "name": "ipython",
    "version": 3
   },
   "file_extension": ".py",
   "mimetype": "text/x-python",
   "name": "python",
   "nbconvert_exporter": "python",
   "pygments_lexer": "ipython3",
   "version": "3.12.1"
  }
 },
 "nbformat": 4,
 "nbformat_minor": 2
}
